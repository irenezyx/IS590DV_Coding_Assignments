{
 "cells": [
  {
   "cell_type": "markdown",
   "metadata": {
    "extensions": {
     "jupyter_dashboards": {
      "version": 1,
      "views": {
       "grid_default": {},
       "report_default": {
        "hidden": false
       }
      }
     }
    }
   },
   "source": [
    "# Final Project - Presentation\n",
    "### Team name: Segment No Fault\n",
    "### Team members: Jean Cai, Siti Zhang, Yixin Zhang, Tong Gong"
   ]
  },
  {
   "cell_type": "code",
   "execution_count": 1,
   "metadata": {
    "extensions": {
     "jupyter_dashboards": {
      "version": 1,
      "views": {
       "grid_default": {},
       "report_default": {
        "hidden": true
       }
      }
     }
    }
   },
   "outputs": [
    {
     "ename": "ModuleNotFoundError",
     "evalue": "No module named 'bqplot'",
     "output_type": "error",
     "traceback": [
      "\u001b[1;31m---------------------------------------------------------------------------\u001b[0m",
      "\u001b[1;31mModuleNotFoundError\u001b[0m                       Traceback (most recent call last)",
      "\u001b[1;32m<ipython-input-1-5c371fae9de1>\u001b[0m in \u001b[0;36m<module>\u001b[1;34m\u001b[0m\n\u001b[0;32m      1\u001b[0m \u001b[1;32mimport\u001b[0m \u001b[0mpandas\u001b[0m \u001b[1;32mas\u001b[0m \u001b[0mpd\u001b[0m\u001b[1;33m\u001b[0m\u001b[1;33m\u001b[0m\u001b[0m\n\u001b[0;32m      2\u001b[0m \u001b[1;32mimport\u001b[0m \u001b[0mnumpy\u001b[0m \u001b[1;32mas\u001b[0m \u001b[0mnp\u001b[0m\u001b[1;33m\u001b[0m\u001b[1;33m\u001b[0m\u001b[0m\n\u001b[1;32m----> 3\u001b[1;33m \u001b[1;32mimport\u001b[0m \u001b[0mbqplot\u001b[0m\u001b[1;33m\u001b[0m\u001b[1;33m\u001b[0m\u001b[0m\n\u001b[0m\u001b[0;32m      4\u001b[0m \u001b[1;32mimport\u001b[0m \u001b[0mipywidgets\u001b[0m\u001b[1;33m\u001b[0m\u001b[1;33m\u001b[0m\u001b[0m\n\u001b[0;32m      5\u001b[0m \u001b[1;32mimport\u001b[0m \u001b[0mmatplotlib\u001b[0m\u001b[1;33m.\u001b[0m\u001b[0mpyplot\u001b[0m \u001b[1;32mas\u001b[0m \u001b[0mplt\u001b[0m\u001b[1;33m\u001b[0m\u001b[1;33m\u001b[0m\u001b[0m\n",
      "\u001b[1;31mModuleNotFoundError\u001b[0m: No module named 'bqplot'"
     ]
    }
   ],
   "source": [
    "import pandas as pd\n",
    "import numpy as np\n",
    "import bqplot\n",
    "import ipywidgets\n",
    "import matplotlib.pyplot as plt\n",
    "from bqplot import market_map\n",
    "import traitlets\n",
    "from IPython.display import clear_output\n",
    "import plotly"
   ]
  },
  {
   "cell_type": "markdown",
   "metadata": {
    "extensions": {
     "jupyter_dashboards": {
      "version": 1,
      "views": {
       "grid_default": {},
       "report_default": {
        "hidden": false
       }
      }
     }
    }
   },
   "source": [
    "## Intro of Dataset: State Medicare Spend of U.S. (2014)"
   ]
  },
  {
   "cell_type": "markdown",
   "metadata": {
    "extensions": {
     "jupyter_dashboards": {
      "version": 1,
      "views": {
       "grid_default": {},
       "report_default": {
        "hidden": false
       }
      }
     }
    }
   },
   "source": [
    "### source: \n",
    "data.world\n",
    "\n",
    "https://data.world/adamhelsinger/county-state-medicare-spend\n",
    "### license: \n",
    "public domain\n",
    "### file size: \n",
    "575 KB\n",
    "### item size: \n",
    "53 rows\n",
    "### what does it represent?\n",
    "medicare Spending by state level of US in 2014\n",
    "\n",
    "there are 50 states, and a District of Columbia in the dataset, and a row with ID 99 representing US (so total 53 rows)"
   ]
  },
  {
   "cell_type": "markdown",
   "metadata": {
    "extensions": {
     "jupyter_dashboards": {
      "version": 1,
      "views": {
       "grid_default": {},
       "report_default": {
        "hidden": false
       }
      }
     }
    }
   },
   "source": [
    "## Reformat table"
   ]
  },
  {
   "cell_type": "code",
   "execution_count": null,
   "metadata": {
    "extensions": {
     "jupyter_dashboards": {
      "version": 1,
      "views": {
       "grid_default": {},
       "report_default": {
        "hidden": true
       }
      }
     }
    }
   },
   "outputs": [],
   "source": [
    "# We just use the state dataset in the two data file.\n",
    "df_state = pd.read_excel('https://query.data.world/s/lltwwemfcypdh3ubqirgczlayhxanl')"
   ]
  },
  {
   "cell_type": "code",
   "execution_count": null,
   "metadata": {
    "extensions": {
     "jupyter_dashboards": {
      "version": 1,
      "views": {
       "grid_default": {},
       "report_default": {
        "hidden": false
       }
      }
     }
    }
   },
   "outputs": [],
   "source": [
    "# The dataset is about medicare Spending of 2014 by state level \n",
    "# - Claims-based: Price, age, sex and race-adjusted\n",
    "# there are 50 states in the dataset and 99 is the ID of US (the last row)\n",
    "# (The \"state #\" skip two digits so the max ID except 99 is 53)\n",
    "df_state.head()"
   ]
  },
  {
   "cell_type": "markdown",
   "metadata": {
    "extensions": {
     "jupyter_dashboards": {
      "version": 1,
      "views": {
       "grid_default": {},
       "report_default": {
        "hidden": false
       }
      }
     }
    }
   },
   "source": [
    "Because some column names are not recognized rightly, \n",
    "\n",
    "and there are some information about the columns in the first row,\n",
    "\n",
    "We decided to rename the columns and merge the info of the first row and the column names.\n",
    "\n",
    "**Naming rule - P: price, A: age, S:sex, R:race**\n",
    "\n",
    "eg. \"ASR\" means Age, sex, race adjusted"
   ]
  },
  {
   "cell_type": "code",
   "execution_count": null,
   "metadata": {
    "extensions": {
     "jupyter_dashboards": {
      "version": 1,
      "views": {
       "grid_default": {},
       "report_default": {
        "hidden": false
       }
      }
     }
    }
   },
   "outputs": [],
   "source": [
    "# Because some column names are not recognized rightly \n",
    "# and there are some information about the columns in the first row,\n",
    "# I decided to rename the columns and merge the info of the first row and the column names.\n",
    "\n",
    "# Naming rule: \n",
    "# P: price, A: age, S:sex, R:race\n",
    "# eg. \"ASR\" means Age, sex, race adjusted\n",
    "\n",
    "df_state = df_state.rename(columns={\n",
    "    'Total Medicare reimbursements per enrollee (Parts A and B) (2014)': \n",
    "    'Total Medicare reimbursements per enrollee - ASR', \n",
    "    'Unnamed: 4': \n",
    "    'Total Medicare reimbursements per enrollee - PASR',\n",
    "    'Hospital & skilled nursing facility reimbursements per enrollee (2014)':\n",
    "    'Hospital & skilled nursing facility reimbursements per enrollee - ASR',\n",
    "    'Unnamed: 6':\n",
    "    'Hospital & skilled nursing facility reimbursements per enrollee - PASR',\n",
    "    'Physician reimbursements per enrollee (2014)':\n",
    "    'Physician reimbursements per enrollee - ASR',\n",
    "    'Unnamed: 8':\n",
    "    'Physician reimbursements per enrollee - PASR',\n",
    "    'Outpatient facility reimbursements per enrollee (2014)':\n",
    "    'Outpatient facility reimbursements per enrollee - ASR',\n",
    "    'Unnamed: 10':\n",
    "    'Outpatient facility reimbursements per enrollee - PASR',\n",
    "    'Home health agency reimbursements per enrollee (2014)':\n",
    "    'Home health agency reimbursements per enrollee - ASR',\n",
    "    'Unnamed: 12':\n",
    "    'Home health agency reimbursements per enrollee - PASR',\n",
    "    'Hospice reimbursements per enrollee (2014)':\n",
    "    'Hospice reimbursements per enrollee - ASR',\n",
    "    'Unnamed: 14':\n",
    "    'Hospice reimbursements per enrollee - PASR',\n",
    "    'Durable medical equipment reimbursements per enrollee (2014)':\n",
    "    'Durable medical equipment reimbursements per enrollee - ASR',\n",
    "    'Unnamed: 16':\n",
    "    'Durable medical equipment reimbursements per enrollee - PASR'\n",
    "    })\n",
    "df_state.head()"
   ]
  },
  {
   "cell_type": "markdown",
   "metadata": {
    "extensions": {
     "jupyter_dashboards": {
      "version": 1,
      "views": {
       "grid_default": {},
       "report_default": {
        "hidden": false
       }
      }
     }
    }
   },
   "source": [
    "**delete the first row which is the info about the column**"
   ]
  },
  {
   "cell_type": "code",
   "execution_count": null,
   "metadata": {
    "extensions": {
     "jupyter_dashboards": {
      "version": 1,
      "views": {
       "grid_default": {},
       "report_default": {
        "hidden": false
       }
      }
     }
    }
   },
   "outputs": [],
   "source": [
    "# delete the first row which is the info about the column\n",
    "df_state = df_state.iloc[1:] \n",
    "df_state.head()"
   ]
  },
  {
   "cell_type": "markdown",
   "metadata": {
    "extensions": {
     "jupyter_dashboards": {
      "version": 1,
      "views": {
       "grid_default": {},
       "report_default": {
        "hidden": false
       }
      }
     }
    }
   },
   "source": [
    "#### original data type"
   ]
  },
  {
   "cell_type": "code",
   "execution_count": null,
   "metadata": {
    "extensions": {
     "jupyter_dashboards": {
      "version": 1,
      "views": {
       "grid_default": {},
       "report_default": {
        "hidden": false
       }
      }
     }
    }
   },
   "outputs": [],
   "source": [
    "df_state.dtypes"
   ]
  },
  {
   "cell_type": "markdown",
   "metadata": {
    "extensions": {
     "jupyter_dashboards": {
      "version": 1,
      "views": {
       "grid_default": {},
       "report_default": {
        "hidden": false
       }
      }
     }
    }
   },
   "source": [
    "**Correct the data type**"
   ]
  },
  {
   "cell_type": "code",
   "execution_count": null,
   "metadata": {
    "extensions": {
     "jupyter_dashboards": {
      "version": 1,
      "views": {
       "grid_default": {},
       "report_default": {
        "hidden": false
       }
      }
     }
    }
   },
   "outputs": [],
   "source": [
    "# correct the datatype\n",
    "df_state[\"State #\"] = df_state[\"State #\"].astype(\"int64\")\n",
    "df_state[\"Medicare enrollees (2014)\"] = df_state[\"Medicare enrollees (2014)\"].astype(\"int64\")\n",
    "cols = df_state.columns.tolist()\n",
    "del cols[0:3]\n",
    "for col in cols:\n",
    "    df_state[col] = df_state[col].astype(\"float64\")\n",
    "df_state.dtypes"
   ]
  },
  {
   "cell_type": "markdown",
   "metadata": {
    "extensions": {
     "jupyter_dashboards": {
      "version": 1,
      "views": {
       "grid_default": {},
       "report_default": {
        "hidden": false
       }
      }
     }
    }
   },
   "source": [
    "### column info\n",
    "The columns are \n",
    "\n",
    "**state ID (int),**\n",
    "\n",
    "**state name (String in Python types, Object in Pandas types),**\n",
    "\n",
    "**medicare enrollees in 2014 (int),**\n",
    "\n",
    "**total medicare reimbursements and detail medicare reimbursements**\n",
    "\n",
    "**per enrollee with age, sex, race adjusted value and**\n",
    "\n",
    "**price, age, sex, race adjusted value (float)**\n",
    "\n",
    "Age adjusting rates is a way to make fairer comparisons between groups with different age distributions. For example, a county having a higher percentage of elderly people may have a higher rate of death or hospitalization than a county with a younger population, merely because the elderly are more likely to die or be hospitalized. (The same distortion can happen when comparing races, genders, or time periods.) Age adjustment can make the different groups more comparable. Similar as other type of adjusting.\n",
    "\n",
    "Every row contains the information about medicare reimbursements of a state "
   ]
  },
  {
   "cell_type": "markdown",
   "metadata": {
    "extensions": {
     "jupyter_dashboards": {
      "version": 1,
      "views": {
       "grid_default": {},
       "report_default": {
        "hidden": false
       }
      }
     }
    }
   },
   "source": [
    "#### Table head"
   ]
  },
  {
   "cell_type": "code",
   "execution_count": null,
   "metadata": {
    "extensions": {
     "jupyter_dashboards": {
      "version": 1,
      "views": {
       "grid_default": {},
       "report_default": {
        "hidden": false
       }
      }
     }
    }
   },
   "outputs": [],
   "source": [
    "# The columns are state ID (int), \n",
    "# state name (String in Python types, Object in Pandas types), \n",
    "# medicare enrollees in 2014 (int),\n",
    "# total medicare reimbursements and detail medicare reimbursements \n",
    "# per enrollee with age, sex, race adjusted value and \n",
    "# price, age, sex, race adjusted value (float)\n",
    "\n",
    "# Every row contains the information about medicare reimbursements of a state \n",
    "\n",
    "df_state.head()"
   ]
  },
  {
   "cell_type": "markdown",
   "metadata": {
    "extensions": {
     "jupyter_dashboards": {
      "version": 1,
      "views": {
       "grid_default": {},
       "report_default": {
        "hidden": false
       }
      }
     }
    }
   },
   "source": [
    "#### Table tail"
   ]
  },
  {
   "cell_type": "code",
   "execution_count": null,
   "metadata": {
    "extensions": {
     "jupyter_dashboards": {
      "version": 1,
      "views": {
       "grid_default": {},
       "report_default": {
        "hidden": false
       }
      }
     }
    }
   },
   "outputs": [],
   "source": [
    "# there are 50 states in the dataset and 99 is the ID of US (the last row)\n",
    "# (The \"state #\" skip two digits so the max ID except 99 is 53)\n",
    "df_state.tail()"
   ]
  },
  {
   "cell_type": "code",
   "execution_count": null,
   "metadata": {
    "extensions": {
     "jupyter_dashboards": {
      "version": 1,
      "views": {
       "grid_default": {},
       "report_default": {
        "hidden": true
       }
      }
     }
    },
    "scrolled": true
   },
   "outputs": [],
   "source": [
    "# df_state.describe()"
   ]
  },
  {
   "cell_type": "markdown",
   "metadata": {
    "extensions": {
     "jupyter_dashboards": {
      "version": 1,
      "views": {
       "grid_default": {},
       "report_default": {
        "hidden": false
       }
      }
     }
    }
   },
   "source": [
    "#### drop down + plot"
   ]
  },
  {
   "cell_type": "markdown",
   "metadata": {
    "extensions": {
     "jupyter_dashboards": {
      "version": 1,
      "views": {
       "grid_default": {},
       "report_default": {
        "hidden": false
       }
      }
     }
    }
   },
   "source": [
    "You can select different x and y variables to achieve the scatter plot and it can show a clear relationship between the two variables."
   ]
  },
  {
   "cell_type": "code",
   "execution_count": null,
   "metadata": {
    "extensions": {
     "jupyter_dashboards": {
      "version": 1,
      "views": {
       "grid_default": {},
       "report_default": {
        "hidden": false
       }
      }
     }
    },
    "scrolled": false
   },
   "outputs": [],
   "source": [
    "# delete the first row which is the info about the column\n",
    "state_data = df_state.iloc[:52] \n",
    "def scatter(now_x, now_y):\n",
    "    if not now_x or not now_y:\n",
    "        return\n",
    "    plt.figure(figsize=(10, 6))\n",
    "    plt.scatter(state_data[now_x],state_data[now_y])\n",
    "    plt.xlabel(now_x)\n",
    "    plt.ylabel(now_y)\n",
    "    plt.xticks(rotation='vertical')\n",
    "\n",
    "@ipywidgets.interact(x = list(state_data.columns.values),y = list(state_data.columns.values))\n",
    "def print_x(x, y):  \n",
    "    scatter(x, y)"
   ]
  },
  {
   "cell_type": "markdown",
   "metadata": {
    "extensions": {
     "jupyter_dashboards": {
      "version": 1,
      "views": {
       "grid_default": {},
       "report_default": {
        "hidden": false
       }
      }
     }
    }
   },
   "source": [
    "You can choose the different adjustments for the same reimbursements per enrollee and the bar plot shows the different gap between them based on the state number."
   ]
  },
  {
   "cell_type": "code",
   "execution_count": null,
   "metadata": {
    "extensions": {
     "jupyter_dashboards": {
      "version": 1,
      "views": {
       "grid_default": {},
       "report_default": {
        "hidden": false
       }
      }
     }
    }
   },
   "outputs": [],
   "source": [
    "def bar(now_x, now_y):\n",
    "    if not now_x or not now_y:\n",
    "        return\n",
    "    plt.figure(figsize=(10, 6))\n",
    "    state_data[now_x].T.plot.bar(color='g',alpha=0.6,label='ASR')\n",
    "    state_data[now_y].T.plot.bar(color='b',alpha=0.4,label='PASR')\n",
    "    plt.xlabel('state #')\n",
    "    plt.ylabel('reimbursements per enrollee')\n",
    "    plt.title('different adjustments for reimbursements per enrollee')\n",
    "    plt.legend(loc='upper right')\n",
    "    plt.show()\n",
    "\n",
    "@ipywidgets.interact(choose_asr = list(state_data.columns.values[3::2]),choose_pasr = list(state_data.columns.values[4::2]))\n",
    "def print_x(choose_asr, choose_pasr):  \n",
    "    bar(choose_asr, choose_pasr)"
   ]
  },
  {
   "cell_type": "markdown",
   "metadata": {
    "extensions": {
     "jupyter_dashboards": {
      "version": 1,
      "views": {
       "grid_default": {},
       "report_default": {
        "hidden": false
       }
      }
     }
    }
   },
   "source": [
    "### Market Map"
   ]
  },
  {
   "cell_type": "code",
   "execution_count": null,
   "metadata": {
    "extensions": {
     "jupyter_dashboards": {
      "version": 1,
      "views": {
       "grid_default": {},
       "report_default": {
        "hidden": false
       }
      }
     }
    }
   },
   "outputs": [],
   "source": [
    "x_sc = bqplot.OrdinalScale()\n",
    "y_sc = bqplot.OrdinalScale()\n",
    "col_sc = bqplot.ColorScale(scheme = \"Blues\")\n",
    "\n",
    "c_ax = bqplot.ColorAxis(scale = col_sc, orientation = 'vertical',side = 'right') # attention: ColorAxis not Axis\n",
    "state_map = df_state\n",
    "market_map = bqplot.market_map.MarketMap(\n",
    "    title = \"Total Medicare reimbursements per enrollee of states\",\n",
    "    color = state_map[\"Total Medicare reimbursements per enrollee - PASR\"].values,\n",
    "    names = state_map[\"State name\"].values,\n",
    "    scales = {'color':col_sc},\n",
    "    axis = [c_ax]\n",
    "    )\n",
    "\n",
    "print(\"In the market map, the darker the color of the grid is, \" \\\n",
    "    \"the more the total Medicare reimbursements per enrollee of that state is. \" \\\n",
    "    \"\\nSelect one grid at a time to show the bar chart of detailed reimbursement info of that state.\")\n",
    "\n",
    "state_name_label = ipywidgets.Label()\n",
    "total_reimb_label = ipywidgets.Label()\n",
    "output = ipywidgets.Output()\n",
    "\n",
    "from IPython.display import clear_output\n",
    "\n",
    "def selection_changed(event): # only select one\n",
    "    if(event['new'] is None or len(event['new'])==0):\n",
    "#         print(\"Cleared the plot. No grid is selected\")\n",
    "        with output:\n",
    "            clear_output(True)\n",
    "        return ;\n",
    "\n",
    "    state_info = state_map[state_map[\"State name\"] == event['new'][-1]] # -1 means the lastes selected one\n",
    "    state_name_label.value = 'State: '+ event['new'][-1]\n",
    "    total_reimb_label.value = 'Total medicare reimbursements per enrollee of that state: ' \\\n",
    "            + str(state_info[\"Total Medicare reimbursements per enrollee - PASR\"].iloc[0]) \\\n",
    "            + \" dollar / person\"\n",
    "        \n",
    "    # plot\n",
    "    with output:\n",
    "        clear_output(True)\n",
    "        plot_data = state_info.iloc[0].drop(labels=[\"State #\",\"State name\",\"Medicare enrollees (2014)\"])\n",
    "        \n",
    "        x = np.arange(len(plot_data))\n",
    "        plt.title(\"detailed reimbursement info of \" + event['new'][-1])\n",
    "        plt.barh(x, plot_data.tolist())\n",
    "        plt.yticks(x, plot_data.index.tolist())\n",
    "        plt.xlabel(\"Dollar/person\")\n",
    "        for i, v in enumerate(plot_data.tolist()):\n",
    "            plt.text(v, i - 0.25, str(v))\n",
    "        plt.show()\n",
    "       \n",
    "\n",
    "market_map.observe(selection_changed, 'selected')\n",
    "\n",
    "display(ipywidgets.VBox([market_map, state_name_label, total_reimb_label, output]))\n",
    "print(\"\\033[1mAnnotations:\\033[0m\\n\" \\\n",
    "      \"Naming rule: P: price, A: age, S:sex, R:race\\n\" \\\n",
    "      \"eg. \\\"ASR\\\" means Age, sex, race adjusted\")"
   ]
  },
  {
   "cell_type": "code",
   "execution_count": null,
   "metadata": {
    "extensions": {
     "jupyter_dashboards": {
      "version": 1,
      "views": {
       "grid_default": {},
       "report_default": {
        "hidden": true
       }
      }
     }
    }
   },
   "outputs": [],
   "source": [
    "df_state1 = df_state.sort_values('Medicare enrollees (2014)', ascending=False)\n",
    "state_names_including_us = df_state1.ix[:,1].tolist()\n",
    "states_names = state_names_including_us[1:]\n",
    "# states_names"
   ]
  },
  {
   "cell_type": "code",
   "execution_count": null,
   "metadata": {
    "extensions": {
     "jupyter_dashboards": {
      "version": 1,
      "views": {
       "grid_default": {},
       "report_default": {
        "hidden": true
       }
      }
     }
    }
   },
   "outputs": [],
   "source": [
    "# df_state1.iloc[-1]['Medicare enrollees (2014)']"
   ]
  },
  {
   "cell_type": "code",
   "execution_count": null,
   "metadata": {
    "extensions": {
     "jupyter_dashboards": {
      "version": 1,
      "views": {
       "grid_default": {},
       "report_default": {
        "hidden": true
       }
      }
     }
    }
   },
   "outputs": [],
   "source": [
    "type_name = df_state1.keys()[3:].tolist()\n",
    "for i in range(2, 9):\n",
    "    type_name.append(df_state1.keys()[2*i - 1].split('-')[0][:-1] + ' - ASR & PASR')\n",
    "#type_name.sort()\n",
    "type_name += ['All ASR', 'All PASR', 'ALL ASR & PASR']\n",
    "type_name.insert(0, df_state1.keys()[2])"
   ]
  },
  {
   "cell_type": "code",
   "execution_count": null,
   "metadata": {
    "extensions": {
     "jupyter_dashboards": {
      "version": 1,
      "views": {
       "grid_default": {},
       "report_default": {
        "hidden": true
       }
      }
     }
    }
   },
   "outputs": [],
   "source": [
    "id_to_state = {\n",
    " 53: 'Washington',\n",
    " 30: 'Montana',\n",
    " 16: 'Idaho',\n",
    " 38: 'North Dakota',\n",
    " 27: 'Minnesota',\n",
    " 23: 'Maine',\n",
    " 26: 'Michigan',\n",
    " 55: 'Wisconsin',\n",
    " 41: 'Oregon',\n",
    " 46: 'South Dakota',\n",
    " 33: 'New Hampshire',\n",
    " 50: 'Vermont',\n",
    " 36: 'New York',\n",
    " 56: 'Wyoming',\n",
    " 19: 'Iowa',\n",
    " 31: 'Nebraska',\n",
    " 25: 'Massachusetts',\n",
    " 17: 'Illinois',\n",
    " 42: 'Pennsylvania',\n",
    " 9: 'Connecticut',\n",
    " 44: 'Rhode Island',\n",
    " 6: 'California',\n",
    " 49: 'Utah',\n",
    " 32: 'Nevada',\n",
    " 39: 'Ohio',\n",
    " 18: 'Indiana',\n",
    " 34: 'New Jersey',\n",
    " 8: 'Colorado',\n",
    " 54: 'West Virginia',\n",
    " 29: 'Missouri',\n",
    " 20: 'Kansas',\n",
    " 10: 'Delaware',\n",
    " 24: 'Maryland',\n",
    " 51: 'Virginia',\n",
    " 21: 'Kentucky',\n",
    " 11: 'District of Columbia',\n",
    " 4: 'Arizona',\n",
    " 40: 'Oklahoma',\n",
    " 35: 'New Mexico',\n",
    " 47: 'Tennessee',\n",
    " 37: 'North Carolina',\n",
    " 48: 'Texas',\n",
    " 5: 'Arkansas',\n",
    " 45: 'South Carolina',\n",
    " 1: 'Alabama',\n",
    " 13: 'Georgia',\n",
    " 28: 'Mississippi',\n",
    " 22: 'Louisiana',\n",
    " 12: 'Florida',\n",
    " 15: 'Hawaii',\n",
    " 2: 'Alaska'\n",
    "}\n",
    "map_id_to_state = {}\n",
    "for key, value in sorted(id_to_state.items()):\n",
    "    map_id_to_state[key] = value\n",
    "state_to_id = {}\n",
    "for ID in map_id_to_state:\n",
    "    state_to_id[map_id_to_state[ID]] = ID\n",
    "state_to_id['United States'] = list(map_id_to_state.keys())"
   ]
  },
  {
   "cell_type": "code",
   "execution_count": null,
   "metadata": {
    "extensions": {
     "jupyter_dashboards": {
      "version": 1,
      "views": {
       "grid_default": {},
       "report_default": {
        "hidden": true
       }
      }
     }
    }
   },
   "outputs": [],
   "source": [
    "color_51 = [\"#017003\", \"#057207\", \"#0A750C\", \"#0F7711\", \"#147A16\", \"#197C1A\", \"#1D7F1F\", \"#228124\", \"#278429\", \"#2C862E\", \"#318932\", \"#368B37\", \"#3A8E3C\", \"#3F9141\", \"#449345\", \"#49964A\", \"#4E984F\", \"#529B54\", \"#579D59\", \"#5CA05D\", \"#61A262\", \"#66A567\", \"#6BA76C\", \"#6FAA70\", \"#74AC75\", \"#79AF7A\", \"#7EB27F\", \"#83B484\", \"#87B788\", \"#8CB98D\", \"#91BC92\", \"#96BE97\", \"#9BC19B\", \"#A0C3A0\", \"#A4C6A5\", \"#A9C8AA\", \"#AECBAF\", \"#B3CDB3\", \"#B8D0B8\", \"#BCD3BD\", \"#C1D5C2\", \"#C6D8C6\", \"#CBDACB\", \"#D0DDD0\", \"#D5DFD5\", \"#D9E2DA\", \"#DEE4DE\", \"#E3E7E3\", \"#E8E9E8\", \"#EDECED\", \"#F2EFF2\"]\n",
    "\n",
    "map_color = {}; index_color = 0\n",
    "for state in states_names:\n",
    "    map_color[state_to_id[state]] = color_51[index_color]\n",
    "    index_color += 1"
   ]
  },
  {
   "cell_type": "code",
   "execution_count": null,
   "metadata": {
    "extensions": {
     "jupyter_dashboards": {
      "version": 1,
      "views": {
       "grid_default": {},
       "report_default": {
        "hidden": true
       }
      }
     }
    }
   },
   "outputs": [],
   "source": [
    "def new_plot(state_names, data_display): \n",
    "    if len(state_names) == 0:\n",
    "        print('No selected states!')\n",
    "        return\n",
    "    if type(state_names) is not list:\n",
    "        state_names = [state_names]\n",
    "    df2 = df_state.loc[(df_state['State name'].isin(state_names))]\n",
    "    x = df2['State name'].tolist()\n",
    "    fig = plt.figure()\n",
    "    if data_display == type_name[-1]:\n",
    "        for i in range(1, 15):\n",
    "            y = df2[type_name[i]]\n",
    "            plt.plot(x, y, '-o')\n",
    "        plt.legend(type_name[1:15], bbox_to_anchor=(1.05, 1), loc=2, borderaxespad=0.)\n",
    "    elif data_display == type_name[-2]:\n",
    "        new_types = [type_name[2*i] for i in range(1, 8)]\n",
    "        for y in new_types:\n",
    "            plt.plot(x, df2[y], '-o')\n",
    "        plt.legend(new_types, bbox_to_anchor=(1.05, 1), loc=2, borderaxespad=0.)\n",
    "    elif data_display == type_name[-3]:\n",
    "        new_types = [type_name[2*i+1] for i in range(7)]\n",
    "        for y in new_types:\n",
    "            plt.plot(x, df2[y], '-o')\n",
    "        plt.legend(new_types, bbox_to_anchor=(1.05, 1), loc=2, borderaxespad=0.)\n",
    "    elif data_display in type_name[-10:-3]:\n",
    "        new_type = data_display.split('-')[0]\n",
    "        type1 = new_type + '- ASR'\n",
    "        y1 = df2[type1]\n",
    "        type2 = new_type + '- PASR'\n",
    "        y2 = df2[type2]\n",
    "        plt.plot(x, y1, '-o')\n",
    "        plt.plot(x, y2, '-o')\n",
    "        plt.legend([type1, type2], bbox_to_anchor=(1.05, 1), loc=2, borderaxespad=0.)\n",
    "    else:\n",
    "        plt.plot(x, df2[data_display], '-o')\n",
    "    plt.xticks(x, state_names, rotation='vertical')\n",
    "    fig.suptitle('{0} \\n for Chosen States'.format(data_display))\n",
    "    tmp_ylabel = data_display.split(' per')\n",
    "    if len(tmp_ylabel) > 1:\n",
    "        plt.ylabel('{0}\\nper{1}'.format(tmp_ylabel[0], tmp_ylabel[1]))\n",
    "    else:\n",
    "        plt.ylabel(data_display)\n",
    "    plt.xlabel('States')\n",
    "    plt.figure(figsize = (10, 10))\n",
    "    plt.show()"
   ]
  },
  {
   "cell_type": "code",
   "execution_count": null,
   "metadata": {
    "extensions": {
     "jupyter_dashboards": {
      "version": 1,
      "views": {
       "grid_default": {},
       "report_default": {
        "hidden": true
       }
      }
     }
    }
   },
   "outputs": [],
   "source": [
    "sc_geo = bqplot.AlbersUSA()\n",
    "\n",
    "col_sc = bqplot.ColorScale(colors = [color_51[50], color_51[0]],\n",
    "                           dtype = 'int64',\n",
    "                           min = float(df_state1.iloc[-1]['Medicare enrollees (2014)']),\n",
    "                           max = float(df_state1.iloc[1]['Medicare enrollees (2014)']))\n",
    "c_ax = bqplot.ColorAxis(scale = col_sc, orientation = 'vertical', side = 'left')\n",
    "\n",
    "states_map = bqplot.Map(map_data=bqplot.topo_load('map_data/USStatesMap.json'), \n",
    "                        scales={'projection': sc_geo},\n",
    "                        interactions = {'click': 'select'},\n",
    "                        selected_styles = {'selected_fill': '#FFFF33'},\n",
    "                        #selected = [1],\n",
    "                        stroke_color = 'yellow',\n",
    "                        colors = map_color\n",
    "                        )\n",
    "usa_fig = bqplot.Figure(marks=[states_map], title='United States Map with Color Reflecting Medicare Enrollees in 2014', axes=[c_ax])\n",
    "usa_fig.layout.width = '900px'\n",
    "usa_fig.layout.height = '650px'\n",
    "\n",
    "state_name_label = ipywidgets.Label()\n",
    "state_name_html = ipywidgets.HTML(description='', placeholder='HTML')\n",
    "ipywidgets.link( (state_name_label, 'value'), (state_name_html, 'value') )\n",
    "tick = ipywidgets.Label('Nothing selected yet, try click on the map.')\n",
    "\n",
    "out = ipywidgets.Output()\n",
    "data_to_display = ipywidgets.Dropdown(\n",
    "    options = type_name,\n",
    "    description = 'Displaying: '\n",
    ")\n",
    "state_options = ipywidgets.Dropdown(\n",
    "                options = df_state['State name'],\n",
    "                description = 'State Name: '\n",
    "            ) \n",
    "flag_state_options_observable = True\n",
    "flag_data_to_display_observable = True\n",
    "\n",
    "def selection_changed(event):\n",
    "    global state_name_label\n",
    "    global tick\n",
    "    global state_options\n",
    "    tick.value = 'Selected States: '\n",
    "    selected_list = event['new']\n",
    "    if selected_list is None or len(selected_list) == 0:\n",
    "        with out:\n",
    "            clear_output(True)\n",
    "            state_name_label.value = 'No states are selected.'\n",
    "            print('Try click on the map!')\n",
    "        return\n",
    "    \n",
    "    state_names = []\n",
    "    state_name_label.value = ''\n",
    "    for i in range(len(selected_list)):\n",
    "        name = map_id_to_state[selected_list[i]]\n",
    "        state_names.append(name)\n",
    "        if i > 0:\n",
    "            state_name_label.value += ','\n",
    "        state_name_label.value += name\n",
    "    \n",
    "    with out:\n",
    "        clear_output(True) \n",
    "             \n",
    "        if len(state_names) > 1:\n",
    "            display(data_to_display)\n",
    "            new_plot(state_names, data_to_display.value)\n",
    "            \n",
    "            def data_dispalying_changed(event):\n",
    "                new_data = event['new']\n",
    "                if new_data is None:\n",
    "                    print('no data to display')\n",
    "                    return\n",
    "                clear_output(True)\n",
    "                state_names = state_name_label.value.split(',')\n",
    "                if len(state_names) == 1:\n",
    "                    global state_options\n",
    "                    state_options.value = state_names[0]\n",
    "                    display(state_options)\n",
    "                display(data_to_display)\n",
    "                new_plot(state_names, new_data)\n",
    "            \n",
    "            global flag_data_to_display_observable\n",
    "            if flag_data_to_display_observable:\n",
    "                flag_data_to_display_observable = False\n",
    "                data_to_display.observe(data_dispalying_changed, ['value'])\n",
    "            \n",
    "        else:\n",
    "            state_options.value = state_names[0]\n",
    "            \n",
    "            def state_dropdown_changed(event):\n",
    "                global state_name_label\n",
    "                global data_to_display\n",
    "                global state_options\n",
    "                tmp_y =  data_to_display.value\n",
    "                clear_output(True)\n",
    "                state_name_label.value = event['new']\n",
    "                state_options.value = event['new']\n",
    "                data_to_display.value = tmp_y\n",
    "                #display(ipywidgets.HBox([instr_state_options, instr_data_to_display]))\n",
    "                #display(state_options, data_to_display)\n",
    "                if event['new'] == 'United States':\n",
    "                    states_map.selected = state_to_id[event['new']]\n",
    "                else:\n",
    "                    states_map.selected = [state_to_id[event['new']]]\n",
    "                #new_plot(event['new'], tmp_y)\n",
    "                \n",
    "            plot = ipywidgets.interactive(new_plot, \n",
    "                                          state_names=state_options, \n",
    "                                          data_display=data_to_display)\n",
    "            display(plot)\n",
    "            \n",
    "            global flag_state_options_observable\n",
    "            if flag_state_options_observable:\n",
    "                flag_state_options_observable = False\n",
    "                state_options.observe(state_dropdown_changed, ['value'])\n",
    "    \n",
    "states_map.observe(selection_changed, 'selected')"
   ]
  },
  {
   "cell_type": "code",
   "execution_count": null,
   "metadata": {
    "extensions": {
     "jupyter_dashboards": {
      "version": 1,
      "views": {
       "grid_default": {},
       "report_default": {
        "hidden": false
       }
      }
     }
    }
   },
   "outputs": [],
   "source": [
    "instruction = ipywidgets.Textarea('Color reflecting medicare enrollees in 2014. The darker color, the more enrolless.')\n",
    "instr2 = ipywidgets.Textarea('Click on one state to get scatter plot or multiple states to get line plot.')\n",
    "instr3 = ipywidgets.Textarea('Click selected state again to unclick it or click outside the map to unclick all.')\n",
    "display(ipywidgets.VBox([ipywidgets.HBox([instruction, instr2, instr3]), usa_fig, ipywidgets.VBox([tick, state_name_html]), \n",
    "                         out]))"
   ]
  },
  {
   "cell_type": "code",
   "execution_count": null,
   "metadata": {
    "extensions": {
     "jupyter_dashboards": {
      "version": 1,
      "views": {
       "grid_default": {},
       "report_default": {
        "hidden": true
       }
      }
     }
    }
   },
   "outputs": [],
   "source": [
    "# delete the first row which is the info about the column\n",
    "state_data3 = df_state.iloc[0:51] \n",
    "state_data3 = state_data3.drop(columns = [\"State #\"])\n",
    "state_code = ['AL', 'AK', 'AZ', 'AR', 'CA',\n",
    "              'CO', 'CT', 'DE', 'DC', 'FL',\n",
    "              'GA', 'HI', 'ID', 'IL', 'IN', \n",
    "              'IA', 'KS', 'KY', 'LA', 'ME', \n",
    "              'MD', 'MA', 'MI', 'MN', 'MS', \n",
    "              'MO', 'MT', 'NE', 'NV', 'NH', \n",
    "              'NJ', 'NM', 'NY', 'NC', 'ND', \n",
    "              'OH', 'OK', 'OR', 'PA', 'RI', \n",
    "              'SC', 'SD', 'TN', 'TX', 'UT', \n",
    "              'VT', 'VA', 'WA', 'WV', 'WI', 'WY']\n",
    "state_data3[\"State code\"] = state_code\n",
    "#state_data3"
   ]
  },
  {
   "cell_type": "code",
   "execution_count": null,
   "metadata": {
    "extensions": {
     "jupyter_dashboards": {
      "version": 1,
      "views": {
       "grid_default": {},
       "report_default": {
        "hidden": true
       }
      }
     }
    }
   },
   "outputs": [],
   "source": [
    "plotly.tools.set_credentials_file(username='TomGong', api_key='C5z2Aa30KlWwU7o4GN5X')\n",
    "\n",
    "for col in state_data3.columns:\n",
    "    state_data3[col] = state_data3[col].astype(str)\n",
    "\n",
    "scl = [[0.0, 'rgb(242,240,247)'],[0.2, 'rgb(218,218,235)'],[0.4, 'rgb(188,189,220)'],\\\n",
    "            [0.6, 'rgb(158,154,200)'],[0.8, 'rgb(117,107,177)'],[1.0, 'rgb(84,39,143)']]\n",
    "\n",
    "state_data3['text'] = state_data3['State name'] + '<br>' +\\\n",
    "    'Total Enrollees: ' + state_data3['Medicare enrollees (2014)']"
   ]
  },
  {
   "cell_type": "code",
   "execution_count": null,
   "metadata": {
    "extensions": {
     "jupyter_dashboards": {
      "version": 1,
      "views": {
       "grid_default": {},
       "report_default": {
        "hidden": true
       }
      }
     }
    }
   },
   "outputs": [],
   "source": [
    "type_rename = state_data3.keys()[2:-2].tolist()"
   ]
  },
  {
   "cell_type": "code",
   "execution_count": null,
   "metadata": {
    "extensions": {
     "jupyter_dashboards": {
      "version": 1,
      "views": {
       "grid_default": {},
       "report_default": {
        "hidden": true
       }
      }
     }
    }
   },
   "outputs": [],
   "source": [
    "data_to_display1 = ipywidgets.Dropdown(\n",
    "    options = type_rename,\n",
    "    description = 'Displaying: '\n",
    ")"
   ]
  },
  {
   "cell_type": "code",
   "execution_count": null,
   "metadata": {
    "extensions": {
     "jupyter_dashboards": {
      "version": 1,
      "views": {
       "grid_default": {},
       "report_default": {
        "hidden": true
       }
      }
     }
    }
   },
   "outputs": [],
   "source": [
    "def new_plot1(data_display):\n",
    "    data = [ dict(\n",
    "            type='choropleth',\n",
    "            colorscale = scl,\n",
    "            autocolorscale = False,\n",
    "            locations = state_data3['State code'],\n",
    "            z = state_data3[data_display].astype(float),\n",
    "            locationmode = 'USA-states',\n",
    "            text = state_data3['text'],\n",
    "            marker = dict(\n",
    "                line = dict (\n",
    "                    color = 'rgb(255,255,255)',\n",
    "                    width = 2\n",
    "                ) ),\n",
    "            colorbar = dict(\n",
    "                title = \"USD/$\")\n",
    "            ) ]\n",
    "\n",
    "    layout = dict(\n",
    "            title = '{0}'.format(data_display) + ', 2014',\n",
    "            geo = dict(\n",
    "                scope='usa',\n",
    "                projection=dict( type='albers usa' ),\n",
    "                showlakes = True,\n",
    "                lakecolor = 'rgb(255, 255, 255)'),\n",
    "                 )\n",
    "\n",
    "    fig = dict( data=data, layout=layout )\n",
    "    display(plotly.plotly.iplot( fig, filename='d3-cloropleth-map' ))\n",
    "\n",
    "def data_to_display_changed(event):\n",
    "    new_data1 = event['new']\n",
    "    if new_data1 is None:\n",
    "        print('no data to display')\n",
    "        return\n",
    "    clear_output(True)\n",
    "    display(data_to_display1)\n",
    "    new_plot1(new_data1)\n",
    "\n",
    "data_to_display1.observe(data_to_display_changed, ['value'])"
   ]
  },
  {
   "cell_type": "markdown",
   "metadata": {
    "extensions": {
     "jupyter_dashboards": {
      "version": 1,
      "views": {
       "grid_default": {},
       "report_default": {
        "hidden": false
       }
      }
     }
    }
   },
   "source": [
    "### Choropleth Map\n",
    "\n",
    "#### Choose the different category of reimbursements you'd like to display from the drop-down box. \n",
    "#### With clicking on any state features, corresponding information will show up in the pop-up."
   ]
  },
  {
   "cell_type": "code",
   "execution_count": null,
   "metadata": {
    "extensions": {
     "jupyter_dashboards": {
      "version": 1,
      "views": {
       "grid_default": {},
       "report_default": {
        "hidden": false
       }
      }
     }
    },
    "scrolled": false
   },
   "outputs": [],
   "source": [
    "display(data_to_display1)\n",
    "new_plot1(data_to_display1.value)"
   ]
  },
  {
   "cell_type": "code",
   "execution_count": null,
   "metadata": {
    "extensions": {
     "jupyter_dashboards": {
      "version": 1,
      "views": {
       "grid_default": {},
       "report_default": {
        "hidden": true
       }
      }
     }
    }
   },
   "outputs": [],
   "source": []
  }
 ],
 "metadata": {
  "extensions": {
   "jupyter_dashboards": {
    "activeView": "report_default",
    "version": 1,
    "views": {
     "grid_default": {
      "name": "grid",
      "type": "grid"
     },
     "report_default": {
      "name": "report",
      "type": "report"
     }
    }
   }
  },
  "kernelspec": {
   "display_name": "Python 3",
   "language": "python",
   "name": "python3"
  },
  "language_info": {
   "codemirror_mode": {
    "name": "ipython",
    "version": 3
   },
   "file_extension": ".py",
   "mimetype": "text/x-python",
   "name": "python",
   "nbconvert_exporter": "python",
   "pygments_lexer": "ipython3",
   "version": "3.7.3"
  }
 },
 "nbformat": 4,
 "nbformat_minor": 2
}
