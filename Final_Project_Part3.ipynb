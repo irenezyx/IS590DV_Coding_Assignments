{
 "cells": [
  {
   "cell_type": "markdown",
   "metadata": {
    "extensions": {
     "jupyter_dashboards": {
      "version": 1,
      "views": {
       "grid_default": {},
       "report_default": {
        "hidden": false
       }
      }
     }
    }
   },
   "source": [
    "# Final Project - Presentation\n",
    "### Team name: Segment No Fault\n",
    "### Team members: Jean Cai, Siti Zhang, Yixin Zhang, Tong Gong"
   ]
  },
  {
   "cell_type": "code",
   "execution_count": 1,
   "metadata": {
    "extensions": {
     "jupyter_dashboards": {
      "version": 1,
      "views": {
       "grid_default": {},
       "report_default": {
        "hidden": true
       }
      }
     }
    }
   },
   "outputs": [],
   "source": [
    "import pandas as pd\n",
    "import numpy as np\n",
    "import bqplot\n",
    "import ipywidgets\n",
    "import matplotlib.pyplot as plt\n",
    "from bqplot import market_map\n",
    "import traitlets\n",
    "from IPython.display import clear_output\n",
    "import plotly"
   ]
  },
  {
   "cell_type": "markdown",
   "metadata": {
    "extensions": {
     "jupyter_dashboards": {
      "version": 1,
      "views": {
       "grid_default": {},
       "report_default": {
        "hidden": false
       }
      }
     }
    }
   },
   "source": [
    "## Intro of Dataset: State Medicare Spend of U.S. (2014)"
   ]
  },
  {
   "cell_type": "markdown",
   "metadata": {
    "extensions": {
     "jupyter_dashboards": {
      "version": 1,
      "views": {
       "grid_default": {},
       "report_default": {
        "hidden": false
       }
      }
     }
    }
   },
   "source": [
    "### source: \n",
    "data.world\n",
    "\n",
    "https://data.world/adamhelsinger/county-state-medicare-spend\n",
    "### license: \n",
    "public domain\n",
    "### file size: \n",
    "575 KB\n",
    "### item size: \n",
    "53 rows\n",
    "### what does it represent?\n",
    "medicare Spending by state level of US in 2014\n",
    "\n",
    "there are 50 states, and a District of Columbia in the dataset, and a row with ID 99 representing US (so total 53 rows)"
   ]
  },
  {
   "cell_type": "markdown",
   "metadata": {
    "extensions": {
     "jupyter_dashboards": {
      "version": 1,
      "views": {
       "grid_default": {},
       "report_default": {
        "hidden": false
       }
      }
     }
    }
   },
   "source": [
    "## Reformat table"
   ]
  },
  {
   "cell_type": "code",
   "execution_count": 2,
   "metadata": {
    "extensions": {
     "jupyter_dashboards": {
      "version": 1,
      "views": {
       "grid_default": {},
       "report_default": {
        "hidden": true
       }
      }
     }
    }
   },
   "outputs": [],
   "source": [
    "# We just use the state dataset in the two data file.\n",
    "df_state = pd.read_excel('https://query.data.world/s/lltwwemfcypdh3ubqirgczlayhxanl')"
   ]
  },
  {
   "cell_type": "code",
   "execution_count": 3,
   "metadata": {
    "extensions": {
     "jupyter_dashboards": {
      "version": 1,
      "views": {
       "grid_default": {},
       "report_default": {
        "hidden": false
       }
      }
     }
    }
   },
   "outputs": [
    {
     "data": {
      "text/html": [
       "<div>\n",
       "<style scoped>\n",
       "    .dataframe tbody tr th:only-of-type {\n",
       "        vertical-align: middle;\n",
       "    }\n",
       "\n",
       "    .dataframe tbody tr th {\n",
       "        vertical-align: top;\n",
       "    }\n",
       "\n",
       "    .dataframe thead th {\n",
       "        text-align: right;\n",
       "    }\n",
       "</style>\n",
       "<table border=\"1\" class=\"dataframe\">\n",
       "  <thead>\n",
       "    <tr style=\"text-align: right;\">\n",
       "      <th></th>\n",
       "      <th>State #</th>\n",
       "      <th>State name</th>\n",
       "      <th>Medicare enrollees (2014)</th>\n",
       "      <th>Total Medicare reimbursements per enrollee (Parts A and B) (2014)</th>\n",
       "      <th>Unnamed: 4</th>\n",
       "      <th>Hospital &amp; skilled nursing facility reimbursements per enrollee (2014)</th>\n",
       "      <th>Unnamed: 6</th>\n",
       "      <th>Physician reimbursements per enrollee (2014)</th>\n",
       "      <th>Unnamed: 8</th>\n",
       "      <th>Outpatient facility reimbursements per enrollee (2014)</th>\n",
       "      <th>Unnamed: 10</th>\n",
       "      <th>Home health agency reimbursements per enrollee (2014)</th>\n",
       "      <th>Unnamed: 12</th>\n",
       "      <th>Hospice reimbursements per enrollee (2014)</th>\n",
       "      <th>Unnamed: 14</th>\n",
       "      <th>Durable medical equipment reimbursements per enrollee (2014)</th>\n",
       "      <th>Unnamed: 16</th>\n",
       "    </tr>\n",
       "  </thead>\n",
       "  <tbody>\n",
       "    <tr>\n",
       "      <th>0</th>\n",
       "      <td>NaN</td>\n",
       "      <td>NaN</td>\n",
       "      <td>NaN</td>\n",
       "      <td>Age, sex &amp; race-adjusted</td>\n",
       "      <td>Price, age, sex &amp; race-adjusted</td>\n",
       "      <td>Age, sex &amp; race-adjusted</td>\n",
       "      <td>Price, age, sex &amp; race-adjusted</td>\n",
       "      <td>Age, sex &amp; race-adjusted</td>\n",
       "      <td>Price, age, sex &amp; race-adjusted</td>\n",
       "      <td>Age, sex &amp; race-adjusted</td>\n",
       "      <td>Price, age, sex &amp; race-adjusted</td>\n",
       "      <td>Age, sex &amp; race-adjusted</td>\n",
       "      <td>Price, age, sex &amp; race-adjusted</td>\n",
       "      <td>Age, sex &amp; race-adjusted</td>\n",
       "      <td>Price, age, sex &amp; race-adjusted</td>\n",
       "      <td>Age, sex &amp; race-adjusted</td>\n",
       "      <td>Price, age, sex &amp; race-adjusted</td>\n",
       "    </tr>\n",
       "    <tr>\n",
       "      <th>1</th>\n",
       "      <td>1.0</td>\n",
       "      <td>Alabama</td>\n",
       "      <td>494966.0</td>\n",
       "      <td>8680.93</td>\n",
       "      <td>9961.85</td>\n",
       "      <td>3447.21</td>\n",
       "      <td>4265.82</td>\n",
       "      <td>2578.5</td>\n",
       "      <td>2726.52</td>\n",
       "      <td>1351.84</td>\n",
       "      <td>1516.79</td>\n",
       "      <td>551.11</td>\n",
       "      <td>629.12</td>\n",
       "      <td>543.02</td>\n",
       "      <td>634.98</td>\n",
       "      <td>228.69</td>\n",
       "      <td>213.37</td>\n",
       "    </tr>\n",
       "    <tr>\n",
       "      <th>2</th>\n",
       "      <td>2.0</td>\n",
       "      <td>Alaska</td>\n",
       "      <td>56634.0</td>\n",
       "      <td>8702.62</td>\n",
       "      <td>6970.83</td>\n",
       "      <td>4101.69</td>\n",
       "      <td>3076.14</td>\n",
       "      <td>2334.08</td>\n",
       "      <td>1970.81</td>\n",
       "      <td>1660.47</td>\n",
       "      <td>1389.1</td>\n",
       "      <td>208.51</td>\n",
       "      <td>175.87</td>\n",
       "      <td>185.3</td>\n",
       "      <td>172.32</td>\n",
       "      <td>117.97</td>\n",
       "      <td>107.53</td>\n",
       "    </tr>\n",
       "    <tr>\n",
       "      <th>3</th>\n",
       "      <td>3.0</td>\n",
       "      <td>Arizona</td>\n",
       "      <td>507408.0</td>\n",
       "      <td>9068.12</td>\n",
       "      <td>8976.52</td>\n",
       "      <td>3652.01</td>\n",
       "      <td>3615.96</td>\n",
       "      <td>3211.26</td>\n",
       "      <td>3210.19</td>\n",
       "      <td>1211.14</td>\n",
       "      <td>1179.69</td>\n",
       "      <td>317.93</td>\n",
       "      <td>307.46</td>\n",
       "      <td>489.33</td>\n",
       "      <td>471.87</td>\n",
       "      <td>176.23</td>\n",
       "      <td>180.06</td>\n",
       "    </tr>\n",
       "    <tr>\n",
       "      <th>4</th>\n",
       "      <td>4.0</td>\n",
       "      <td>Arkansas</td>\n",
       "      <td>332791.0</td>\n",
       "      <td>8466.95</td>\n",
       "      <td>9544.49</td>\n",
       "      <td>3861.26</td>\n",
       "      <td>4616.55</td>\n",
       "      <td>2230.52</td>\n",
       "      <td>2342.91</td>\n",
       "      <td>1388.91</td>\n",
       "      <td>1538.26</td>\n",
       "      <td>409.23</td>\n",
       "      <td>458.16</td>\n",
       "      <td>342.15</td>\n",
       "      <td>365.25</td>\n",
       "      <td>234.63</td>\n",
       "      <td>226.04</td>\n",
       "    </tr>\n",
       "  </tbody>\n",
       "</table>\n",
       "</div>"
      ],
      "text/plain": [
       "   State # State name  Medicare enrollees (2014)  \\\n",
       "0      NaN        NaN                        NaN   \n",
       "1      1.0    Alabama                   494966.0   \n",
       "2      2.0     Alaska                    56634.0   \n",
       "3      3.0    Arizona                   507408.0   \n",
       "4      4.0   Arkansas                   332791.0   \n",
       "\n",
       "  Total Medicare reimbursements per enrollee (Parts A and B) (2014)  \\\n",
       "0                           Age, sex & race-adjusted                  \n",
       "1                                            8680.93                  \n",
       "2                                            8702.62                  \n",
       "3                                            9068.12                  \n",
       "4                                            8466.95                  \n",
       "\n",
       "                        Unnamed: 4  \\\n",
       "0  Price, age, sex & race-adjusted   \n",
       "1                          9961.85   \n",
       "2                          6970.83   \n",
       "3                          8976.52   \n",
       "4                          9544.49   \n",
       "\n",
       "  Hospital & skilled nursing facility reimbursements per enrollee (2014)  \\\n",
       "0                           Age, sex & race-adjusted                       \n",
       "1                                            3447.21                       \n",
       "2                                            4101.69                       \n",
       "3                                            3652.01                       \n",
       "4                                            3861.26                       \n",
       "\n",
       "                        Unnamed: 6  \\\n",
       "0  Price, age, sex & race-adjusted   \n",
       "1                          4265.82   \n",
       "2                          3076.14   \n",
       "3                          3615.96   \n",
       "4                          4616.55   \n",
       "\n",
       "  Physician reimbursements per enrollee (2014)  \\\n",
       "0                     Age, sex & race-adjusted   \n",
       "1                                       2578.5   \n",
       "2                                      2334.08   \n",
       "3                                      3211.26   \n",
       "4                                      2230.52   \n",
       "\n",
       "                        Unnamed: 8  \\\n",
       "0  Price, age, sex & race-adjusted   \n",
       "1                          2726.52   \n",
       "2                          1970.81   \n",
       "3                          3210.19   \n",
       "4                          2342.91   \n",
       "\n",
       "  Outpatient facility reimbursements per enrollee (2014)  \\\n",
       "0                           Age, sex & race-adjusted       \n",
       "1                                            1351.84       \n",
       "2                                            1660.47       \n",
       "3                                            1211.14       \n",
       "4                                            1388.91       \n",
       "\n",
       "                       Unnamed: 10  \\\n",
       "0  Price, age, sex & race-adjusted   \n",
       "1                          1516.79   \n",
       "2                           1389.1   \n",
       "3                          1179.69   \n",
       "4                          1538.26   \n",
       "\n",
       "  Home health agency reimbursements per enrollee (2014)  \\\n",
       "0                           Age, sex & race-adjusted      \n",
       "1                                             551.11      \n",
       "2                                             208.51      \n",
       "3                                             317.93      \n",
       "4                                             409.23      \n",
       "\n",
       "                       Unnamed: 12 Hospice reimbursements per enrollee (2014)  \\\n",
       "0  Price, age, sex & race-adjusted                   Age, sex & race-adjusted   \n",
       "1                           629.12                                     543.02   \n",
       "2                           175.87                                      185.3   \n",
       "3                           307.46                                     489.33   \n",
       "4                           458.16                                     342.15   \n",
       "\n",
       "                       Unnamed: 14  \\\n",
       "0  Price, age, sex & race-adjusted   \n",
       "1                           634.98   \n",
       "2                           172.32   \n",
       "3                           471.87   \n",
       "4                           365.25   \n",
       "\n",
       "  Durable medical equipment reimbursements per enrollee (2014)  \\\n",
       "0                           Age, sex & race-adjusted             \n",
       "1                                             228.69             \n",
       "2                                             117.97             \n",
       "3                                             176.23             \n",
       "4                                             234.63             \n",
       "\n",
       "                       Unnamed: 16  \n",
       "0  Price, age, sex & race-adjusted  \n",
       "1                           213.37  \n",
       "2                           107.53  \n",
       "3                           180.06  \n",
       "4                           226.04  "
      ]
     },
     "execution_count": 3,
     "metadata": {},
     "output_type": "execute_result"
    }
   ],
   "source": [
    "# The dataset is about medicare Spending of 2014 by state level \n",
    "# - Claims-based: Price, age, sex and race-adjusted\n",
    "# there are 50 states in the dataset and 99 is the ID of US (the last row)\n",
    "# (The \"state #\" skip two digits so the max ID except 99 is 53)\n",
    "df_state.head()"
   ]
  },
  {
   "cell_type": "markdown",
   "metadata": {
    "extensions": {
     "jupyter_dashboards": {
      "version": 1,
      "views": {
       "grid_default": {},
       "report_default": {
        "hidden": false
       }
      }
     }
    }
   },
   "source": [
    "Because some column names are not recognized rightly, \n",
    "\n",
    "and there are some information about the columns in the first row,\n",
    "\n",
    "We decided to rename the columns and merge the info of the first row and the column names.\n",
    "\n",
    "**Naming rule - P: price, A: age, S:sex, R:race**\n",
    "\n",
    "eg. \"ASR\" means Age, sex, race adjusted"
   ]
  },
  {
   "cell_type": "code",
   "execution_count": 4,
   "metadata": {
    "extensions": {
     "jupyter_dashboards": {
      "version": 1,
      "views": {
       "grid_default": {},
       "report_default": {
        "hidden": false
       }
      }
     }
    }
   },
   "outputs": [
    {
     "data": {
      "text/html": [
       "<div>\n",
       "<style scoped>\n",
       "    .dataframe tbody tr th:only-of-type {\n",
       "        vertical-align: middle;\n",
       "    }\n",
       "\n",
       "    .dataframe tbody tr th {\n",
       "        vertical-align: top;\n",
       "    }\n",
       "\n",
       "    .dataframe thead th {\n",
       "        text-align: right;\n",
       "    }\n",
       "</style>\n",
       "<table border=\"1\" class=\"dataframe\">\n",
       "  <thead>\n",
       "    <tr style=\"text-align: right;\">\n",
       "      <th></th>\n",
       "      <th>State #</th>\n",
       "      <th>State name</th>\n",
       "      <th>Medicare enrollees (2014)</th>\n",
       "      <th>Total Medicare reimbursements per enrollee - ASR</th>\n",
       "      <th>Total Medicare reimbursements per enrollee - PASR</th>\n",
       "      <th>Hospital &amp; skilled nursing facility reimbursements per enrollee - ASR</th>\n",
       "      <th>Hospital &amp; skilled nursing facility reimbursements per enrollee - PASR</th>\n",
       "      <th>Physician reimbursements per enrollee - ASR</th>\n",
       "      <th>Physician reimbursements per enrollee - PASR</th>\n",
       "      <th>Outpatient facility reimbursements per enrollee - ASR</th>\n",
       "      <th>Outpatient facility reimbursements per enrollee - PASR</th>\n",
       "      <th>Home health agency reimbursements per enrollee - ASR</th>\n",
       "      <th>Home health agency reimbursements per enrollee - PASR</th>\n",
       "      <th>Hospice reimbursements per enrollee - ASR</th>\n",
       "      <th>Hospice reimbursements per enrollee - PASR</th>\n",
       "      <th>Durable medical equipment reimbursements per enrollee - ASR</th>\n",
       "      <th>Durable medical equipment reimbursements per enrollee - PASR</th>\n",
       "    </tr>\n",
       "  </thead>\n",
       "  <tbody>\n",
       "    <tr>\n",
       "      <th>0</th>\n",
       "      <td>NaN</td>\n",
       "      <td>NaN</td>\n",
       "      <td>NaN</td>\n",
       "      <td>Age, sex &amp; race-adjusted</td>\n",
       "      <td>Price, age, sex &amp; race-adjusted</td>\n",
       "      <td>Age, sex &amp; race-adjusted</td>\n",
       "      <td>Price, age, sex &amp; race-adjusted</td>\n",
       "      <td>Age, sex &amp; race-adjusted</td>\n",
       "      <td>Price, age, sex &amp; race-adjusted</td>\n",
       "      <td>Age, sex &amp; race-adjusted</td>\n",
       "      <td>Price, age, sex &amp; race-adjusted</td>\n",
       "      <td>Age, sex &amp; race-adjusted</td>\n",
       "      <td>Price, age, sex &amp; race-adjusted</td>\n",
       "      <td>Age, sex &amp; race-adjusted</td>\n",
       "      <td>Price, age, sex &amp; race-adjusted</td>\n",
       "      <td>Age, sex &amp; race-adjusted</td>\n",
       "      <td>Price, age, sex &amp; race-adjusted</td>\n",
       "    </tr>\n",
       "    <tr>\n",
       "      <th>1</th>\n",
       "      <td>1.0</td>\n",
       "      <td>Alabama</td>\n",
       "      <td>494966.0</td>\n",
       "      <td>8680.93</td>\n",
       "      <td>9961.85</td>\n",
       "      <td>3447.21</td>\n",
       "      <td>4265.82</td>\n",
       "      <td>2578.5</td>\n",
       "      <td>2726.52</td>\n",
       "      <td>1351.84</td>\n",
       "      <td>1516.79</td>\n",
       "      <td>551.11</td>\n",
       "      <td>629.12</td>\n",
       "      <td>543.02</td>\n",
       "      <td>634.98</td>\n",
       "      <td>228.69</td>\n",
       "      <td>213.37</td>\n",
       "    </tr>\n",
       "    <tr>\n",
       "      <th>2</th>\n",
       "      <td>2.0</td>\n",
       "      <td>Alaska</td>\n",
       "      <td>56634.0</td>\n",
       "      <td>8702.62</td>\n",
       "      <td>6970.83</td>\n",
       "      <td>4101.69</td>\n",
       "      <td>3076.14</td>\n",
       "      <td>2334.08</td>\n",
       "      <td>1970.81</td>\n",
       "      <td>1660.47</td>\n",
       "      <td>1389.1</td>\n",
       "      <td>208.51</td>\n",
       "      <td>175.87</td>\n",
       "      <td>185.3</td>\n",
       "      <td>172.32</td>\n",
       "      <td>117.97</td>\n",
       "      <td>107.53</td>\n",
       "    </tr>\n",
       "    <tr>\n",
       "      <th>3</th>\n",
       "      <td>3.0</td>\n",
       "      <td>Arizona</td>\n",
       "      <td>507408.0</td>\n",
       "      <td>9068.12</td>\n",
       "      <td>8976.52</td>\n",
       "      <td>3652.01</td>\n",
       "      <td>3615.96</td>\n",
       "      <td>3211.26</td>\n",
       "      <td>3210.19</td>\n",
       "      <td>1211.14</td>\n",
       "      <td>1179.69</td>\n",
       "      <td>317.93</td>\n",
       "      <td>307.46</td>\n",
       "      <td>489.33</td>\n",
       "      <td>471.87</td>\n",
       "      <td>176.23</td>\n",
       "      <td>180.06</td>\n",
       "    </tr>\n",
       "    <tr>\n",
       "      <th>4</th>\n",
       "      <td>4.0</td>\n",
       "      <td>Arkansas</td>\n",
       "      <td>332791.0</td>\n",
       "      <td>8466.95</td>\n",
       "      <td>9544.49</td>\n",
       "      <td>3861.26</td>\n",
       "      <td>4616.55</td>\n",
       "      <td>2230.52</td>\n",
       "      <td>2342.91</td>\n",
       "      <td>1388.91</td>\n",
       "      <td>1538.26</td>\n",
       "      <td>409.23</td>\n",
       "      <td>458.16</td>\n",
       "      <td>342.15</td>\n",
       "      <td>365.25</td>\n",
       "      <td>234.63</td>\n",
       "      <td>226.04</td>\n",
       "    </tr>\n",
       "  </tbody>\n",
       "</table>\n",
       "</div>"
      ],
      "text/plain": [
       "   State # State name  Medicare enrollees (2014)  \\\n",
       "0      NaN        NaN                        NaN   \n",
       "1      1.0    Alabama                   494966.0   \n",
       "2      2.0     Alaska                    56634.0   \n",
       "3      3.0    Arizona                   507408.0   \n",
       "4      4.0   Arkansas                   332791.0   \n",
       "\n",
       "  Total Medicare reimbursements per enrollee - ASR  \\\n",
       "0                         Age, sex & race-adjusted   \n",
       "1                                          8680.93   \n",
       "2                                          8702.62   \n",
       "3                                          9068.12   \n",
       "4                                          8466.95   \n",
       "\n",
       "  Total Medicare reimbursements per enrollee - PASR  \\\n",
       "0                   Price, age, sex & race-adjusted   \n",
       "1                                           9961.85   \n",
       "2                                           6970.83   \n",
       "3                                           8976.52   \n",
       "4                                           9544.49   \n",
       "\n",
       "  Hospital & skilled nursing facility reimbursements per enrollee - ASR  \\\n",
       "0                           Age, sex & race-adjusted                      \n",
       "1                                            3447.21                      \n",
       "2                                            4101.69                      \n",
       "3                                            3652.01                      \n",
       "4                                            3861.26                      \n",
       "\n",
       "  Hospital & skilled nursing facility reimbursements per enrollee - PASR  \\\n",
       "0                    Price, age, sex & race-adjusted                       \n",
       "1                                            4265.82                       \n",
       "2                                            3076.14                       \n",
       "3                                            3615.96                       \n",
       "4                                            4616.55                       \n",
       "\n",
       "  Physician reimbursements per enrollee - ASR  \\\n",
       "0                    Age, sex & race-adjusted   \n",
       "1                                      2578.5   \n",
       "2                                     2334.08   \n",
       "3                                     3211.26   \n",
       "4                                     2230.52   \n",
       "\n",
       "  Physician reimbursements per enrollee - PASR  \\\n",
       "0              Price, age, sex & race-adjusted   \n",
       "1                                      2726.52   \n",
       "2                                      1970.81   \n",
       "3                                      3210.19   \n",
       "4                                      2342.91   \n",
       "\n",
       "  Outpatient facility reimbursements per enrollee - ASR  \\\n",
       "0                           Age, sex & race-adjusted      \n",
       "1                                            1351.84      \n",
       "2                                            1660.47      \n",
       "3                                            1211.14      \n",
       "4                                            1388.91      \n",
       "\n",
       "  Outpatient facility reimbursements per enrollee - PASR  \\\n",
       "0                    Price, age, sex & race-adjusted       \n",
       "1                                            1516.79       \n",
       "2                                             1389.1       \n",
       "3                                            1179.69       \n",
       "4                                            1538.26       \n",
       "\n",
       "  Home health agency reimbursements per enrollee - ASR  \\\n",
       "0                           Age, sex & race-adjusted     \n",
       "1                                             551.11     \n",
       "2                                             208.51     \n",
       "3                                             317.93     \n",
       "4                                             409.23     \n",
       "\n",
       "  Home health agency reimbursements per enrollee - PASR  \\\n",
       "0                    Price, age, sex & race-adjusted      \n",
       "1                                             629.12      \n",
       "2                                             175.87      \n",
       "3                                             307.46      \n",
       "4                                             458.16      \n",
       "\n",
       "  Hospice reimbursements per enrollee - ASR  \\\n",
       "0                  Age, sex & race-adjusted   \n",
       "1                                    543.02   \n",
       "2                                     185.3   \n",
       "3                                    489.33   \n",
       "4                                    342.15   \n",
       "\n",
       "  Hospice reimbursements per enrollee - PASR  \\\n",
       "0            Price, age, sex & race-adjusted   \n",
       "1                                     634.98   \n",
       "2                                     172.32   \n",
       "3                                     471.87   \n",
       "4                                     365.25   \n",
       "\n",
       "  Durable medical equipment reimbursements per enrollee - ASR  \\\n",
       "0                           Age, sex & race-adjusted            \n",
       "1                                             228.69            \n",
       "2                                             117.97            \n",
       "3                                             176.23            \n",
       "4                                             234.63            \n",
       "\n",
       "  Durable medical equipment reimbursements per enrollee - PASR  \n",
       "0                    Price, age, sex & race-adjusted            \n",
       "1                                             213.37            \n",
       "2                                             107.53            \n",
       "3                                             180.06            \n",
       "4                                             226.04            "
      ]
     },
     "execution_count": 4,
     "metadata": {},
     "output_type": "execute_result"
    }
   ],
   "source": [
    "# Because some column names are not recognized rightly \n",
    "# and there are some information about the columns in the first row,\n",
    "# I decided to rename the columns and merge the info of the first row and the column names.\n",
    "\n",
    "# Naming rule: \n",
    "# P: price, A: age, S:sex, R:race\n",
    "# eg. \"ASR\" means Age, sex, race adjusted\n",
    "\n",
    "df_state = df_state.rename(columns={\n",
    "    'Total Medicare reimbursements per enrollee (Parts A and B) (2014)': \n",
    "    'Total Medicare reimbursements per enrollee - ASR', \n",
    "    'Unnamed: 4': \n",
    "    'Total Medicare reimbursements per enrollee - PASR',\n",
    "    'Hospital & skilled nursing facility reimbursements per enrollee (2014)':\n",
    "    'Hospital & skilled nursing facility reimbursements per enrollee - ASR',\n",
    "    'Unnamed: 6':\n",
    "    'Hospital & skilled nursing facility reimbursements per enrollee - PASR',\n",
    "    'Physician reimbursements per enrollee (2014)':\n",
    "    'Physician reimbursements per enrollee - ASR',\n",
    "    'Unnamed: 8':\n",
    "    'Physician reimbursements per enrollee - PASR',\n",
    "    'Outpatient facility reimbursements per enrollee (2014)':\n",
    "    'Outpatient facility reimbursements per enrollee - ASR',\n",
    "    'Unnamed: 10':\n",
    "    'Outpatient facility reimbursements per enrollee - PASR',\n",
    "    'Home health agency reimbursements per enrollee (2014)':\n",
    "    'Home health agency reimbursements per enrollee - ASR',\n",
    "    'Unnamed: 12':\n",
    "    'Home health agency reimbursements per enrollee - PASR',\n",
    "    'Hospice reimbursements per enrollee (2014)':\n",
    "    'Hospice reimbursements per enrollee - ASR',\n",
    "    'Unnamed: 14':\n",
    "    'Hospice reimbursements per enrollee - PASR',\n",
    "    'Durable medical equipment reimbursements per enrollee (2014)':\n",
    "    'Durable medical equipment reimbursements per enrollee - ASR',\n",
    "    'Unnamed: 16':\n",
    "    'Durable medical equipment reimbursements per enrollee - PASR'\n",
    "    })\n",
    "df_state.head()"
   ]
  },
  {
   "cell_type": "markdown",
   "metadata": {
    "extensions": {
     "jupyter_dashboards": {
      "version": 1,
      "views": {
       "grid_default": {},
       "report_default": {
        "hidden": false
       }
      }
     }
    }
   },
   "source": [
    "**delete the first row which is the info about the column**"
   ]
  },
  {
   "cell_type": "code",
   "execution_count": 5,
   "metadata": {
    "extensions": {
     "jupyter_dashboards": {
      "version": 1,
      "views": {
       "grid_default": {},
       "report_default": {
        "hidden": false
       }
      }
     }
    }
   },
   "outputs": [
    {
     "data": {
      "text/html": [
       "<div>\n",
       "<style scoped>\n",
       "    .dataframe tbody tr th:only-of-type {\n",
       "        vertical-align: middle;\n",
       "    }\n",
       "\n",
       "    .dataframe tbody tr th {\n",
       "        vertical-align: top;\n",
       "    }\n",
       "\n",
       "    .dataframe thead th {\n",
       "        text-align: right;\n",
       "    }\n",
       "</style>\n",
       "<table border=\"1\" class=\"dataframe\">\n",
       "  <thead>\n",
       "    <tr style=\"text-align: right;\">\n",
       "      <th></th>\n",
       "      <th>State #</th>\n",
       "      <th>State name</th>\n",
       "      <th>Medicare enrollees (2014)</th>\n",
       "      <th>Total Medicare reimbursements per enrollee - ASR</th>\n",
       "      <th>Total Medicare reimbursements per enrollee - PASR</th>\n",
       "      <th>Hospital &amp; skilled nursing facility reimbursements per enrollee - ASR</th>\n",
       "      <th>Hospital &amp; skilled nursing facility reimbursements per enrollee - PASR</th>\n",
       "      <th>Physician reimbursements per enrollee - ASR</th>\n",
       "      <th>Physician reimbursements per enrollee - PASR</th>\n",
       "      <th>Outpatient facility reimbursements per enrollee - ASR</th>\n",
       "      <th>Outpatient facility reimbursements per enrollee - PASR</th>\n",
       "      <th>Home health agency reimbursements per enrollee - ASR</th>\n",
       "      <th>Home health agency reimbursements per enrollee - PASR</th>\n",
       "      <th>Hospice reimbursements per enrollee - ASR</th>\n",
       "      <th>Hospice reimbursements per enrollee - PASR</th>\n",
       "      <th>Durable medical equipment reimbursements per enrollee - ASR</th>\n",
       "      <th>Durable medical equipment reimbursements per enrollee - PASR</th>\n",
       "    </tr>\n",
       "  </thead>\n",
       "  <tbody>\n",
       "    <tr>\n",
       "      <th>1</th>\n",
       "      <td>1.0</td>\n",
       "      <td>Alabama</td>\n",
       "      <td>494966.0</td>\n",
       "      <td>8680.93</td>\n",
       "      <td>9961.85</td>\n",
       "      <td>3447.21</td>\n",
       "      <td>4265.82</td>\n",
       "      <td>2578.5</td>\n",
       "      <td>2726.52</td>\n",
       "      <td>1351.84</td>\n",
       "      <td>1516.79</td>\n",
       "      <td>551.11</td>\n",
       "      <td>629.12</td>\n",
       "      <td>543.02</td>\n",
       "      <td>634.98</td>\n",
       "      <td>228.69</td>\n",
       "      <td>213.37</td>\n",
       "    </tr>\n",
       "    <tr>\n",
       "      <th>2</th>\n",
       "      <td>2.0</td>\n",
       "      <td>Alaska</td>\n",
       "      <td>56634.0</td>\n",
       "      <td>8702.62</td>\n",
       "      <td>6970.83</td>\n",
       "      <td>4101.69</td>\n",
       "      <td>3076.14</td>\n",
       "      <td>2334.08</td>\n",
       "      <td>1970.81</td>\n",
       "      <td>1660.47</td>\n",
       "      <td>1389.1</td>\n",
       "      <td>208.51</td>\n",
       "      <td>175.87</td>\n",
       "      <td>185.3</td>\n",
       "      <td>172.32</td>\n",
       "      <td>117.97</td>\n",
       "      <td>107.53</td>\n",
       "    </tr>\n",
       "    <tr>\n",
       "      <th>3</th>\n",
       "      <td>3.0</td>\n",
       "      <td>Arizona</td>\n",
       "      <td>507408.0</td>\n",
       "      <td>9068.12</td>\n",
       "      <td>8976.52</td>\n",
       "      <td>3652.01</td>\n",
       "      <td>3615.96</td>\n",
       "      <td>3211.26</td>\n",
       "      <td>3210.19</td>\n",
       "      <td>1211.14</td>\n",
       "      <td>1179.69</td>\n",
       "      <td>317.93</td>\n",
       "      <td>307.46</td>\n",
       "      <td>489.33</td>\n",
       "      <td>471.87</td>\n",
       "      <td>176.23</td>\n",
       "      <td>180.06</td>\n",
       "    </tr>\n",
       "    <tr>\n",
       "      <th>4</th>\n",
       "      <td>4.0</td>\n",
       "      <td>Arkansas</td>\n",
       "      <td>332791.0</td>\n",
       "      <td>8466.95</td>\n",
       "      <td>9544.49</td>\n",
       "      <td>3861.26</td>\n",
       "      <td>4616.55</td>\n",
       "      <td>2230.52</td>\n",
       "      <td>2342.91</td>\n",
       "      <td>1388.91</td>\n",
       "      <td>1538.26</td>\n",
       "      <td>409.23</td>\n",
       "      <td>458.16</td>\n",
       "      <td>342.15</td>\n",
       "      <td>365.25</td>\n",
       "      <td>234.63</td>\n",
       "      <td>226.04</td>\n",
       "    </tr>\n",
       "    <tr>\n",
       "      <th>5</th>\n",
       "      <td>5.0</td>\n",
       "      <td>California</td>\n",
       "      <td>2148329.0</td>\n",
       "      <td>10506</td>\n",
       "      <td>8908.44</td>\n",
       "      <td>4798.8</td>\n",
       "      <td>3870.55</td>\n",
       "      <td>3104.05</td>\n",
       "      <td>2895.97</td>\n",
       "      <td>1494.53</td>\n",
       "      <td>1199.77</td>\n",
       "      <td>573.17</td>\n",
       "      <td>465.35</td>\n",
       "      <td>367.03</td>\n",
       "      <td>305.7</td>\n",
       "      <td>164.09</td>\n",
       "      <td>165.43</td>\n",
       "    </tr>\n",
       "  </tbody>\n",
       "</table>\n",
       "</div>"
      ],
      "text/plain": [
       "   State #  State name  Medicare enrollees (2014)  \\\n",
       "1      1.0     Alabama                   494966.0   \n",
       "2      2.0      Alaska                    56634.0   \n",
       "3      3.0     Arizona                   507408.0   \n",
       "4      4.0    Arkansas                   332791.0   \n",
       "5      5.0  California                  2148329.0   \n",
       "\n",
       "  Total Medicare reimbursements per enrollee - ASR  \\\n",
       "1                                          8680.93   \n",
       "2                                          8702.62   \n",
       "3                                          9068.12   \n",
       "4                                          8466.95   \n",
       "5                                            10506   \n",
       "\n",
       "  Total Medicare reimbursements per enrollee - PASR  \\\n",
       "1                                           9961.85   \n",
       "2                                           6970.83   \n",
       "3                                           8976.52   \n",
       "4                                           9544.49   \n",
       "5                                           8908.44   \n",
       "\n",
       "  Hospital & skilled nursing facility reimbursements per enrollee - ASR  \\\n",
       "1                                            3447.21                      \n",
       "2                                            4101.69                      \n",
       "3                                            3652.01                      \n",
       "4                                            3861.26                      \n",
       "5                                             4798.8                      \n",
       "\n",
       "  Hospital & skilled nursing facility reimbursements per enrollee - PASR  \\\n",
       "1                                            4265.82                       \n",
       "2                                            3076.14                       \n",
       "3                                            3615.96                       \n",
       "4                                            4616.55                       \n",
       "5                                            3870.55                       \n",
       "\n",
       "  Physician reimbursements per enrollee - ASR  \\\n",
       "1                                      2578.5   \n",
       "2                                     2334.08   \n",
       "3                                     3211.26   \n",
       "4                                     2230.52   \n",
       "5                                     3104.05   \n",
       "\n",
       "  Physician reimbursements per enrollee - PASR  \\\n",
       "1                                      2726.52   \n",
       "2                                      1970.81   \n",
       "3                                      3210.19   \n",
       "4                                      2342.91   \n",
       "5                                      2895.97   \n",
       "\n",
       "  Outpatient facility reimbursements per enrollee - ASR  \\\n",
       "1                                            1351.84      \n",
       "2                                            1660.47      \n",
       "3                                            1211.14      \n",
       "4                                            1388.91      \n",
       "5                                            1494.53      \n",
       "\n",
       "  Outpatient facility reimbursements per enrollee - PASR  \\\n",
       "1                                            1516.79       \n",
       "2                                             1389.1       \n",
       "3                                            1179.69       \n",
       "4                                            1538.26       \n",
       "5                                            1199.77       \n",
       "\n",
       "  Home health agency reimbursements per enrollee - ASR  \\\n",
       "1                                             551.11     \n",
       "2                                             208.51     \n",
       "3                                             317.93     \n",
       "4                                             409.23     \n",
       "5                                             573.17     \n",
       "\n",
       "  Home health agency reimbursements per enrollee - PASR  \\\n",
       "1                                             629.12      \n",
       "2                                             175.87      \n",
       "3                                             307.46      \n",
       "4                                             458.16      \n",
       "5                                             465.35      \n",
       "\n",
       "  Hospice reimbursements per enrollee - ASR  \\\n",
       "1                                    543.02   \n",
       "2                                     185.3   \n",
       "3                                    489.33   \n",
       "4                                    342.15   \n",
       "5                                    367.03   \n",
       "\n",
       "  Hospice reimbursements per enrollee - PASR  \\\n",
       "1                                     634.98   \n",
       "2                                     172.32   \n",
       "3                                     471.87   \n",
       "4                                     365.25   \n",
       "5                                      305.7   \n",
       "\n",
       "  Durable medical equipment reimbursements per enrollee - ASR  \\\n",
       "1                                             228.69            \n",
       "2                                             117.97            \n",
       "3                                             176.23            \n",
       "4                                             234.63            \n",
       "5                                             164.09            \n",
       "\n",
       "  Durable medical equipment reimbursements per enrollee - PASR  \n",
       "1                                             213.37            \n",
       "2                                             107.53            \n",
       "3                                             180.06            \n",
       "4                                             226.04            \n",
       "5                                             165.43            "
      ]
     },
     "execution_count": 5,
     "metadata": {},
     "output_type": "execute_result"
    }
   ],
   "source": [
    "# delete the first row which is the info about the column\n",
    "df_state = df_state.iloc[1:] \n",
    "df_state.head()"
   ]
  },
  {
   "cell_type": "markdown",
   "metadata": {
    "extensions": {
     "jupyter_dashboards": {
      "version": 1,
      "views": {
       "grid_default": {},
       "report_default": {
        "hidden": false
       }
      }
     }
    }
   },
   "source": [
    "#### original data type"
   ]
  },
  {
   "cell_type": "code",
   "execution_count": 6,
   "metadata": {
    "extensions": {
     "jupyter_dashboards": {
      "version": 1,
      "views": {
       "grid_default": {},
       "report_default": {
        "hidden": false
       }
      }
     }
    }
   },
   "outputs": [
    {
     "data": {
      "text/plain": [
       "State #                                                                   float64\n",
       "State name                                                                 object\n",
       "Medicare enrollees (2014)                                                 float64\n",
       "Total Medicare reimbursements per enrollee - ASR                           object\n",
       "Total Medicare reimbursements per enrollee - PASR                          object\n",
       "Hospital & skilled nursing facility reimbursements per enrollee - ASR      object\n",
       "Hospital & skilled nursing facility reimbursements per enrollee - PASR     object\n",
       "Physician reimbursements per enrollee - ASR                                object\n",
       "Physician reimbursements per enrollee - PASR                               object\n",
       "Outpatient facility reimbursements per enrollee - ASR                      object\n",
       "Outpatient facility reimbursements per enrollee - PASR                     object\n",
       "Home health agency reimbursements per enrollee - ASR                       object\n",
       "Home health agency reimbursements per enrollee - PASR                      object\n",
       "Hospice reimbursements per enrollee - ASR                                  object\n",
       "Hospice reimbursements per enrollee - PASR                                 object\n",
       "Durable medical equipment reimbursements per enrollee - ASR                object\n",
       "Durable medical equipment reimbursements per enrollee - PASR               object\n",
       "dtype: object"
      ]
     },
     "execution_count": 6,
     "metadata": {},
     "output_type": "execute_result"
    }
   ],
   "source": [
    "df_state.dtypes"
   ]
  },
  {
   "cell_type": "markdown",
   "metadata": {
    "extensions": {
     "jupyter_dashboards": {
      "version": 1,
      "views": {
       "grid_default": {},
       "report_default": {
        "hidden": false
       }
      }
     }
    }
   },
   "source": [
    "**Correct the data type**"
   ]
  },
  {
   "cell_type": "code",
   "execution_count": 7,
   "metadata": {
    "extensions": {
     "jupyter_dashboards": {
      "version": 1,
      "views": {
       "grid_default": {},
       "report_default": {
        "hidden": false
       }
      }
     }
    }
   },
   "outputs": [
    {
     "data": {
      "text/plain": [
       "State #                                                                     int64\n",
       "State name                                                                 object\n",
       "Medicare enrollees (2014)                                                   int64\n",
       "Total Medicare reimbursements per enrollee - ASR                          float64\n",
       "Total Medicare reimbursements per enrollee - PASR                         float64\n",
       "Hospital & skilled nursing facility reimbursements per enrollee - ASR     float64\n",
       "Hospital & skilled nursing facility reimbursements per enrollee - PASR    float64\n",
       "Physician reimbursements per enrollee - ASR                               float64\n",
       "Physician reimbursements per enrollee - PASR                              float64\n",
       "Outpatient facility reimbursements per enrollee - ASR                     float64\n",
       "Outpatient facility reimbursements per enrollee - PASR                    float64\n",
       "Home health agency reimbursements per enrollee - ASR                      float64\n",
       "Home health agency reimbursements per enrollee - PASR                     float64\n",
       "Hospice reimbursements per enrollee - ASR                                 float64\n",
       "Hospice reimbursements per enrollee - PASR                                float64\n",
       "Durable medical equipment reimbursements per enrollee - ASR               float64\n",
       "Durable medical equipment reimbursements per enrollee - PASR              float64\n",
       "dtype: object"
      ]
     },
     "execution_count": 7,
     "metadata": {},
     "output_type": "execute_result"
    }
   ],
   "source": [
    "# correct the datatype\n",
    "df_state[\"State #\"] = df_state[\"State #\"].astype(\"int64\")\n",
    "df_state[\"Medicare enrollees (2014)\"] = df_state[\"Medicare enrollees (2014)\"].astype(\"int64\")\n",
    "cols = df_state.columns.tolist()\n",
    "del cols[0:3]\n",
    "for col in cols:\n",
    "    df_state[col] = df_state[col].astype(\"float64\")\n",
    "df_state.dtypes"
   ]
  },
  {
   "cell_type": "markdown",
   "metadata": {
    "extensions": {
     "jupyter_dashboards": {
      "version": 1,
      "views": {
       "grid_default": {},
       "report_default": {
        "hidden": false
       }
      }
     }
    }
   },
   "source": [
    "### column info\n",
    "The columns are \n",
    "\n",
    "**state ID (int),**\n",
    "\n",
    "**state name (String in Python types, Object in Pandas types),**\n",
    "\n",
    "**medicare enrollees in 2014 (int),**\n",
    "\n",
    "**total medicare reimbursements and detail medicare reimbursements**\n",
    "\n",
    "**per enrollee with age, sex, race adjusted value and**\n",
    "\n",
    "**price, age, sex, race adjusted value (float)**\n",
    "\n",
    "Age adjusting rates is a way to make fairer comparisons between groups with different age distributions. For example, a county having a higher percentage of elderly people may have a higher rate of death or hospitalization than a county with a younger population, merely because the elderly are more likely to die or be hospitalized. (The same distortion can happen when comparing races, genders, or time periods.) Age adjustment can make the different groups more comparable. Similar as other type of adjusting.\n",
    "\n",
    "Every row contains the information about medicare reimbursements of a state "
   ]
  },
  {
   "cell_type": "markdown",
   "metadata": {
    "extensions": {
     "jupyter_dashboards": {
      "version": 1,
      "views": {
       "grid_default": {},
       "report_default": {
        "hidden": false
       }
      }
     }
    }
   },
   "source": [
    "#### Table head"
   ]
  },
  {
   "cell_type": "code",
   "execution_count": 8,
   "metadata": {
    "extensions": {
     "jupyter_dashboards": {
      "version": 1,
      "views": {
       "grid_default": {},
       "report_default": {
        "hidden": false
       }
      }
     }
    }
   },
   "outputs": [
    {
     "data": {
      "text/html": [
       "<div>\n",
       "<style scoped>\n",
       "    .dataframe tbody tr th:only-of-type {\n",
       "        vertical-align: middle;\n",
       "    }\n",
       "\n",
       "    .dataframe tbody tr th {\n",
       "        vertical-align: top;\n",
       "    }\n",
       "\n",
       "    .dataframe thead th {\n",
       "        text-align: right;\n",
       "    }\n",
       "</style>\n",
       "<table border=\"1\" class=\"dataframe\">\n",
       "  <thead>\n",
       "    <tr style=\"text-align: right;\">\n",
       "      <th></th>\n",
       "      <th>State #</th>\n",
       "      <th>State name</th>\n",
       "      <th>Medicare enrollees (2014)</th>\n",
       "      <th>Total Medicare reimbursements per enrollee - ASR</th>\n",
       "      <th>Total Medicare reimbursements per enrollee - PASR</th>\n",
       "      <th>Hospital &amp; skilled nursing facility reimbursements per enrollee - ASR</th>\n",
       "      <th>Hospital &amp; skilled nursing facility reimbursements per enrollee - PASR</th>\n",
       "      <th>Physician reimbursements per enrollee - ASR</th>\n",
       "      <th>Physician reimbursements per enrollee - PASR</th>\n",
       "      <th>Outpatient facility reimbursements per enrollee - ASR</th>\n",
       "      <th>Outpatient facility reimbursements per enrollee - PASR</th>\n",
       "      <th>Home health agency reimbursements per enrollee - ASR</th>\n",
       "      <th>Home health agency reimbursements per enrollee - PASR</th>\n",
       "      <th>Hospice reimbursements per enrollee - ASR</th>\n",
       "      <th>Hospice reimbursements per enrollee - PASR</th>\n",
       "      <th>Durable medical equipment reimbursements per enrollee - ASR</th>\n",
       "      <th>Durable medical equipment reimbursements per enrollee - PASR</th>\n",
       "    </tr>\n",
       "  </thead>\n",
       "  <tbody>\n",
       "    <tr>\n",
       "      <th>1</th>\n",
       "      <td>1</td>\n",
       "      <td>Alabama</td>\n",
       "      <td>494966</td>\n",
       "      <td>8680.93</td>\n",
       "      <td>9961.85</td>\n",
       "      <td>3447.21</td>\n",
       "      <td>4265.82</td>\n",
       "      <td>2578.50</td>\n",
       "      <td>2726.52</td>\n",
       "      <td>1351.84</td>\n",
       "      <td>1516.79</td>\n",
       "      <td>551.11</td>\n",
       "      <td>629.12</td>\n",
       "      <td>543.02</td>\n",
       "      <td>634.98</td>\n",
       "      <td>228.69</td>\n",
       "      <td>213.37</td>\n",
       "    </tr>\n",
       "    <tr>\n",
       "      <th>2</th>\n",
       "      <td>2</td>\n",
       "      <td>Alaska</td>\n",
       "      <td>56634</td>\n",
       "      <td>8702.62</td>\n",
       "      <td>6970.83</td>\n",
       "      <td>4101.69</td>\n",
       "      <td>3076.14</td>\n",
       "      <td>2334.08</td>\n",
       "      <td>1970.81</td>\n",
       "      <td>1660.47</td>\n",
       "      <td>1389.10</td>\n",
       "      <td>208.51</td>\n",
       "      <td>175.87</td>\n",
       "      <td>185.30</td>\n",
       "      <td>172.32</td>\n",
       "      <td>117.97</td>\n",
       "      <td>107.53</td>\n",
       "    </tr>\n",
       "    <tr>\n",
       "      <th>3</th>\n",
       "      <td>3</td>\n",
       "      <td>Arizona</td>\n",
       "      <td>507408</td>\n",
       "      <td>9068.12</td>\n",
       "      <td>8976.52</td>\n",
       "      <td>3652.01</td>\n",
       "      <td>3615.96</td>\n",
       "      <td>3211.26</td>\n",
       "      <td>3210.19</td>\n",
       "      <td>1211.14</td>\n",
       "      <td>1179.69</td>\n",
       "      <td>317.93</td>\n",
       "      <td>307.46</td>\n",
       "      <td>489.33</td>\n",
       "      <td>471.87</td>\n",
       "      <td>176.23</td>\n",
       "      <td>180.06</td>\n",
       "    </tr>\n",
       "    <tr>\n",
       "      <th>4</th>\n",
       "      <td>4</td>\n",
       "      <td>Arkansas</td>\n",
       "      <td>332791</td>\n",
       "      <td>8466.95</td>\n",
       "      <td>9544.49</td>\n",
       "      <td>3861.26</td>\n",
       "      <td>4616.55</td>\n",
       "      <td>2230.52</td>\n",
       "      <td>2342.91</td>\n",
       "      <td>1388.91</td>\n",
       "      <td>1538.26</td>\n",
       "      <td>409.23</td>\n",
       "      <td>458.16</td>\n",
       "      <td>342.15</td>\n",
       "      <td>365.25</td>\n",
       "      <td>234.63</td>\n",
       "      <td>226.04</td>\n",
       "    </tr>\n",
       "    <tr>\n",
       "      <th>5</th>\n",
       "      <td>5</td>\n",
       "      <td>California</td>\n",
       "      <td>2148329</td>\n",
       "      <td>10506.05</td>\n",
       "      <td>8908.44</td>\n",
       "      <td>4798.80</td>\n",
       "      <td>3870.55</td>\n",
       "      <td>3104.05</td>\n",
       "      <td>2895.97</td>\n",
       "      <td>1494.53</td>\n",
       "      <td>1199.77</td>\n",
       "      <td>573.17</td>\n",
       "      <td>465.35</td>\n",
       "      <td>367.03</td>\n",
       "      <td>305.70</td>\n",
       "      <td>164.09</td>\n",
       "      <td>165.43</td>\n",
       "    </tr>\n",
       "  </tbody>\n",
       "</table>\n",
       "</div>"
      ],
      "text/plain": [
       "   State #  State name  Medicare enrollees (2014)  \\\n",
       "1        1     Alabama                     494966   \n",
       "2        2      Alaska                      56634   \n",
       "3        3     Arizona                     507408   \n",
       "4        4    Arkansas                     332791   \n",
       "5        5  California                    2148329   \n",
       "\n",
       "   Total Medicare reimbursements per enrollee - ASR  \\\n",
       "1                                           8680.93   \n",
       "2                                           8702.62   \n",
       "3                                           9068.12   \n",
       "4                                           8466.95   \n",
       "5                                          10506.05   \n",
       "\n",
       "   Total Medicare reimbursements per enrollee - PASR  \\\n",
       "1                                            9961.85   \n",
       "2                                            6970.83   \n",
       "3                                            8976.52   \n",
       "4                                            9544.49   \n",
       "5                                            8908.44   \n",
       "\n",
       "   Hospital & skilled nursing facility reimbursements per enrollee - ASR  \\\n",
       "1                                            3447.21                       \n",
       "2                                            4101.69                       \n",
       "3                                            3652.01                       \n",
       "4                                            3861.26                       \n",
       "5                                            4798.80                       \n",
       "\n",
       "   Hospital & skilled nursing facility reimbursements per enrollee - PASR  \\\n",
       "1                                            4265.82                        \n",
       "2                                            3076.14                        \n",
       "3                                            3615.96                        \n",
       "4                                            4616.55                        \n",
       "5                                            3870.55                        \n",
       "\n",
       "   Physician reimbursements per enrollee - ASR  \\\n",
       "1                                      2578.50   \n",
       "2                                      2334.08   \n",
       "3                                      3211.26   \n",
       "4                                      2230.52   \n",
       "5                                      3104.05   \n",
       "\n",
       "   Physician reimbursements per enrollee - PASR  \\\n",
       "1                                       2726.52   \n",
       "2                                       1970.81   \n",
       "3                                       3210.19   \n",
       "4                                       2342.91   \n",
       "5                                       2895.97   \n",
       "\n",
       "   Outpatient facility reimbursements per enrollee - ASR  \\\n",
       "1                                            1351.84       \n",
       "2                                            1660.47       \n",
       "3                                            1211.14       \n",
       "4                                            1388.91       \n",
       "5                                            1494.53       \n",
       "\n",
       "   Outpatient facility reimbursements per enrollee - PASR  \\\n",
       "1                                            1516.79        \n",
       "2                                            1389.10        \n",
       "3                                            1179.69        \n",
       "4                                            1538.26        \n",
       "5                                            1199.77        \n",
       "\n",
       "   Home health agency reimbursements per enrollee - ASR  \\\n",
       "1                                             551.11      \n",
       "2                                             208.51      \n",
       "3                                             317.93      \n",
       "4                                             409.23      \n",
       "5                                             573.17      \n",
       "\n",
       "   Home health agency reimbursements per enrollee - PASR  \\\n",
       "1                                             629.12       \n",
       "2                                             175.87       \n",
       "3                                             307.46       \n",
       "4                                             458.16       \n",
       "5                                             465.35       \n",
       "\n",
       "   Hospice reimbursements per enrollee - ASR  \\\n",
       "1                                     543.02   \n",
       "2                                     185.30   \n",
       "3                                     489.33   \n",
       "4                                     342.15   \n",
       "5                                     367.03   \n",
       "\n",
       "   Hospice reimbursements per enrollee - PASR  \\\n",
       "1                                      634.98   \n",
       "2                                      172.32   \n",
       "3                                      471.87   \n",
       "4                                      365.25   \n",
       "5                                      305.70   \n",
       "\n",
       "   Durable medical equipment reimbursements per enrollee - ASR  \\\n",
       "1                                             228.69             \n",
       "2                                             117.97             \n",
       "3                                             176.23             \n",
       "4                                             234.63             \n",
       "5                                             164.09             \n",
       "\n",
       "   Durable medical equipment reimbursements per enrollee - PASR  \n",
       "1                                             213.37             \n",
       "2                                             107.53             \n",
       "3                                             180.06             \n",
       "4                                             226.04             \n",
       "5                                             165.43             "
      ]
     },
     "execution_count": 8,
     "metadata": {},
     "output_type": "execute_result"
    }
   ],
   "source": [
    "# The columns are state ID (int), \n",
    "# state name (String in Python types, Object in Pandas types), \n",
    "# medicare enrollees in 2014 (int),\n",
    "# total medicare reimbursements and detail medicare reimbursements \n",
    "# per enrollee with age, sex, race adjusted value and \n",
    "# price, age, sex, race adjusted value (float)\n",
    "\n",
    "# Every row contains the information about medicare reimbursements of a state \n",
    "\n",
    "df_state.head()"
   ]
  },
  {
   "cell_type": "markdown",
   "metadata": {
    "extensions": {
     "jupyter_dashboards": {
      "version": 1,
      "views": {
       "grid_default": {},
       "report_default": {
        "hidden": false
       }
      }
     }
    }
   },
   "source": [
    "#### Table tail"
   ]
  },
  {
   "cell_type": "code",
   "execution_count": 9,
   "metadata": {
    "extensions": {
     "jupyter_dashboards": {
      "version": 1,
      "views": {
       "grid_default": {},
       "report_default": {
        "hidden": false
       }
      }
     }
    }
   },
   "outputs": [
    {
     "data": {
      "text/html": [
       "<div>\n",
       "<style scoped>\n",
       "    .dataframe tbody tr th:only-of-type {\n",
       "        vertical-align: middle;\n",
       "    }\n",
       "\n",
       "    .dataframe tbody tr th {\n",
       "        vertical-align: top;\n",
       "    }\n",
       "\n",
       "    .dataframe thead th {\n",
       "        text-align: right;\n",
       "    }\n",
       "</style>\n",
       "<table border=\"1\" class=\"dataframe\">\n",
       "  <thead>\n",
       "    <tr style=\"text-align: right;\">\n",
       "      <th></th>\n",
       "      <th>State #</th>\n",
       "      <th>State name</th>\n",
       "      <th>Medicare enrollees (2014)</th>\n",
       "      <th>Total Medicare reimbursements per enrollee - ASR</th>\n",
       "      <th>Total Medicare reimbursements per enrollee - PASR</th>\n",
       "      <th>Hospital &amp; skilled nursing facility reimbursements per enrollee - ASR</th>\n",
       "      <th>Hospital &amp; skilled nursing facility reimbursements per enrollee - PASR</th>\n",
       "      <th>Physician reimbursements per enrollee - ASR</th>\n",
       "      <th>Physician reimbursements per enrollee - PASR</th>\n",
       "      <th>Outpatient facility reimbursements per enrollee - ASR</th>\n",
       "      <th>Outpatient facility reimbursements per enrollee - PASR</th>\n",
       "      <th>Home health agency reimbursements per enrollee - ASR</th>\n",
       "      <th>Home health agency reimbursements per enrollee - PASR</th>\n",
       "      <th>Hospice reimbursements per enrollee - ASR</th>\n",
       "      <th>Hospice reimbursements per enrollee - PASR</th>\n",
       "      <th>Durable medical equipment reimbursements per enrollee - ASR</th>\n",
       "      <th>Durable medical equipment reimbursements per enrollee - PASR</th>\n",
       "    </tr>\n",
       "  </thead>\n",
       "  <tbody>\n",
       "    <tr>\n",
       "      <th>48</th>\n",
       "      <td>50</td>\n",
       "      <td>Washington</td>\n",
       "      <td>577189</td>\n",
       "      <td>8267.92</td>\n",
       "      <td>7796.22</td>\n",
       "      <td>3667.66</td>\n",
       "      <td>3428.65</td>\n",
       "      <td>2161.74</td>\n",
       "      <td>2131.97</td>\n",
       "      <td>1683.47</td>\n",
       "      <td>1531.53</td>\n",
       "      <td>313.60</td>\n",
       "      <td>283.91</td>\n",
       "      <td>267.05</td>\n",
       "      <td>248.83</td>\n",
       "      <td>168.04</td>\n",
       "      <td>163.49</td>\n",
       "    </tr>\n",
       "    <tr>\n",
       "      <th>49</th>\n",
       "      <td>51</td>\n",
       "      <td>West Virginia</td>\n",
       "      <td>199126</td>\n",
       "      <td>8970.59</td>\n",
       "      <td>9826.39</td>\n",
       "      <td>4244.47</td>\n",
       "      <td>4675.38</td>\n",
       "      <td>2052.05</td>\n",
       "      <td>2216.97</td>\n",
       "      <td>1715.11</td>\n",
       "      <td>1899.76</td>\n",
       "      <td>426.73</td>\n",
       "      <td>476.44</td>\n",
       "      <td>324.96</td>\n",
       "      <td>359.45</td>\n",
       "      <td>213.42</td>\n",
       "      <td>205.41</td>\n",
       "    </tr>\n",
       "    <tr>\n",
       "      <th>50</th>\n",
       "      <td>52</td>\n",
       "      <td>Wisconsin</td>\n",
       "      <td>477100</td>\n",
       "      <td>8229.70</td>\n",
       "      <td>8411.86</td>\n",
       "      <td>3722.78</td>\n",
       "      <td>3763.04</td>\n",
       "      <td>1831.51</td>\n",
       "      <td>1986.11</td>\n",
       "      <td>1886.89</td>\n",
       "      <td>1876.01</td>\n",
       "      <td>240.45</td>\n",
       "      <td>237.18</td>\n",
       "      <td>385.14</td>\n",
       "      <td>389.11</td>\n",
       "      <td>160.27</td>\n",
       "      <td>156.18</td>\n",
       "    </tr>\n",
       "    <tr>\n",
       "      <th>51</th>\n",
       "      <td>53</td>\n",
       "      <td>Wyoming</td>\n",
       "      <td>69253</td>\n",
       "      <td>8169.14</td>\n",
       "      <td>7767.36</td>\n",
       "      <td>3948.79</td>\n",
       "      <td>3624.63</td>\n",
       "      <td>1973.49</td>\n",
       "      <td>1946.65</td>\n",
       "      <td>1598.99</td>\n",
       "      <td>1555.94</td>\n",
       "      <td>226.38</td>\n",
       "      <td>219.05</td>\n",
       "      <td>128.40</td>\n",
       "      <td>134.55</td>\n",
       "      <td>263.95</td>\n",
       "      <td>252.66</td>\n",
       "    </tr>\n",
       "    <tr>\n",
       "      <th>52</th>\n",
       "      <td>99</td>\n",
       "      <td>United States</td>\n",
       "      <td>26097945</td>\n",
       "      <td>9588.57</td>\n",
       "      <td>9588.57</td>\n",
       "      <td>4243.61</td>\n",
       "      <td>4243.61</td>\n",
       "      <td>2682.21</td>\n",
       "      <td>2682.21</td>\n",
       "      <td>1578.69</td>\n",
       "      <td>1578.69</td>\n",
       "      <td>537.44</td>\n",
       "      <td>537.44</td>\n",
       "      <td>359.34</td>\n",
       "      <td>359.34</td>\n",
       "      <td>187.28</td>\n",
       "      <td>187.28</td>\n",
       "    </tr>\n",
       "  </tbody>\n",
       "</table>\n",
       "</div>"
      ],
      "text/plain": [
       "    State #     State name  Medicare enrollees (2014)  \\\n",
       "48       50     Washington                     577189   \n",
       "49       51  West Virginia                     199126   \n",
       "50       52      Wisconsin                     477100   \n",
       "51       53        Wyoming                      69253   \n",
       "52       99  United States                   26097945   \n",
       "\n",
       "    Total Medicare reimbursements per enrollee - ASR  \\\n",
       "48                                           8267.92   \n",
       "49                                           8970.59   \n",
       "50                                           8229.70   \n",
       "51                                           8169.14   \n",
       "52                                           9588.57   \n",
       "\n",
       "    Total Medicare reimbursements per enrollee - PASR  \\\n",
       "48                                            7796.22   \n",
       "49                                            9826.39   \n",
       "50                                            8411.86   \n",
       "51                                            7767.36   \n",
       "52                                            9588.57   \n",
       "\n",
       "    Hospital & skilled nursing facility reimbursements per enrollee - ASR  \\\n",
       "48                                            3667.66                       \n",
       "49                                            4244.47                       \n",
       "50                                            3722.78                       \n",
       "51                                            3948.79                       \n",
       "52                                            4243.61                       \n",
       "\n",
       "    Hospital & skilled nursing facility reimbursements per enrollee - PASR  \\\n",
       "48                                            3428.65                        \n",
       "49                                            4675.38                        \n",
       "50                                            3763.04                        \n",
       "51                                            3624.63                        \n",
       "52                                            4243.61                        \n",
       "\n",
       "    Physician reimbursements per enrollee - ASR  \\\n",
       "48                                      2161.74   \n",
       "49                                      2052.05   \n",
       "50                                      1831.51   \n",
       "51                                      1973.49   \n",
       "52                                      2682.21   \n",
       "\n",
       "    Physician reimbursements per enrollee - PASR  \\\n",
       "48                                       2131.97   \n",
       "49                                       2216.97   \n",
       "50                                       1986.11   \n",
       "51                                       1946.65   \n",
       "52                                       2682.21   \n",
       "\n",
       "    Outpatient facility reimbursements per enrollee - ASR  \\\n",
       "48                                            1683.47       \n",
       "49                                            1715.11       \n",
       "50                                            1886.89       \n",
       "51                                            1598.99       \n",
       "52                                            1578.69       \n",
       "\n",
       "    Outpatient facility reimbursements per enrollee - PASR  \\\n",
       "48                                            1531.53        \n",
       "49                                            1899.76        \n",
       "50                                            1876.01        \n",
       "51                                            1555.94        \n",
       "52                                            1578.69        \n",
       "\n",
       "    Home health agency reimbursements per enrollee - ASR  \\\n",
       "48                                             313.60      \n",
       "49                                             426.73      \n",
       "50                                             240.45      \n",
       "51                                             226.38      \n",
       "52                                             537.44      \n",
       "\n",
       "    Home health agency reimbursements per enrollee - PASR  \\\n",
       "48                                             283.91       \n",
       "49                                             476.44       \n",
       "50                                             237.18       \n",
       "51                                             219.05       \n",
       "52                                             537.44       \n",
       "\n",
       "    Hospice reimbursements per enrollee - ASR  \\\n",
       "48                                     267.05   \n",
       "49                                     324.96   \n",
       "50                                     385.14   \n",
       "51                                     128.40   \n",
       "52                                     359.34   \n",
       "\n",
       "    Hospice reimbursements per enrollee - PASR  \\\n",
       "48                                      248.83   \n",
       "49                                      359.45   \n",
       "50                                      389.11   \n",
       "51                                      134.55   \n",
       "52                                      359.34   \n",
       "\n",
       "    Durable medical equipment reimbursements per enrollee - ASR  \\\n",
       "48                                             168.04             \n",
       "49                                             213.42             \n",
       "50                                             160.27             \n",
       "51                                             263.95             \n",
       "52                                             187.28             \n",
       "\n",
       "    Durable medical equipment reimbursements per enrollee - PASR  \n",
       "48                                             163.49             \n",
       "49                                             205.41             \n",
       "50                                             156.18             \n",
       "51                                             252.66             \n",
       "52                                             187.28             "
      ]
     },
     "execution_count": 9,
     "metadata": {},
     "output_type": "execute_result"
    }
   ],
   "source": [
    "# there are 50 states in the dataset and 99 is the ID of US (the last row)\n",
    "# (The \"state #\" skip two digits so the max ID except 99 is 53)\n",
    "df_state.tail()"
   ]
  },
  {
   "cell_type": "code",
   "execution_count": 10,
   "metadata": {
    "extensions": {
     "jupyter_dashboards": {
      "version": 1,
      "views": {
       "grid_default": {},
       "report_default": {
        "hidden": true
       }
      }
     }
    },
    "scrolled": true
   },
   "outputs": [],
   "source": [
    "# df_state.describe()"
   ]
  },
  {
   "cell_type": "markdown",
   "metadata": {
    "extensions": {
     "jupyter_dashboards": {
      "version": 1,
      "views": {
       "grid_default": {},
       "report_default": {
        "hidden": false
       }
      }
     }
    }
   },
   "source": [
    "#### drop down + plot"
   ]
  },
  {
   "cell_type": "markdown",
   "metadata": {
    "extensions": {
     "jupyter_dashboards": {
      "version": 1,
      "views": {
       "grid_default": {},
       "report_default": {
        "hidden": false
       }
      }
     }
    }
   },
   "source": [
    "You can select different x and y variables to achieve the scatter plot and it can show a clear relationship between the two variables."
   ]
  },
  {
   "cell_type": "code",
   "execution_count": 11,
   "metadata": {
    "extensions": {
     "jupyter_dashboards": {
      "version": 1,
      "views": {
       "grid_default": {},
       "report_default": {
        "hidden": false
       }
      }
     }
    },
    "scrolled": false
   },
   "outputs": [
    {
     "data": {
      "application/vnd.jupyter.widget-view+json": {
       "model_id": "687964b697de4ddda8d2cf47e9f7d1f7",
       "version_major": 2,
       "version_minor": 0
      },
      "text/plain": [
       "interactive(children=(Dropdown(description='x', options=('State #', 'State name', 'Medicare enrollees (2014)',…"
      ]
     },
     "metadata": {},
     "output_type": "display_data"
    }
   ],
   "source": [
    "# delete the first row which is the info about the column\n",
    "state_data = df_state.iloc[:52] \n",
    "def scatter(now_x, now_y):\n",
    "    if not now_x or not now_y:\n",
    "        return\n",
    "    plt.figure(figsize=(10, 6))\n",
    "    plt.scatter(state_data[now_x],state_data[now_y])\n",
    "    plt.xlabel(now_x)\n",
    "    plt.ylabel(now_y)\n",
    "    plt.xticks(rotation='vertical')\n",
    "\n",
    "@ipywidgets.interact(x = list(state_data.columns.values),y = list(state_data.columns.values))\n",
    "def print_x(x, y):  \n",
    "    scatter(x, y)"
   ]
  },
  {
   "cell_type": "markdown",
   "metadata": {
    "extensions": {
     "jupyter_dashboards": {
      "version": 1,
      "views": {
       "grid_default": {},
       "report_default": {
        "hidden": false
       }
      }
     }
    }
   },
   "source": [
    "You can choose the different adjustments for the same reimbursements per enrollee and the bar plot shows the different gap between them based on the state number."
   ]
  },
  {
   "cell_type": "code",
   "execution_count": 12,
   "metadata": {
    "extensions": {
     "jupyter_dashboards": {
      "version": 1,
      "views": {
       "grid_default": {},
       "report_default": {
        "hidden": false
       }
      }
     }
    }
   },
   "outputs": [
    {
     "data": {
      "application/vnd.jupyter.widget-view+json": {
       "model_id": "2d941d538dd54e35991ba87a688bdc59",
       "version_major": 2,
       "version_minor": 0
      },
      "text/plain": [
       "interactive(children=(Dropdown(description='choose_asr', options=('Total Medicare reimbursements per enrollee …"
      ]
     },
     "metadata": {},
     "output_type": "display_data"
    }
   ],
   "source": [
    "def bar(now_x, now_y):\n",
    "    if not now_x or not now_y:\n",
    "        return\n",
    "    plt.figure(figsize=(10, 6))\n",
    "    state_data[now_x].T.plot.bar(color='g',alpha=0.6,label='ASR')\n",
    "    state_data[now_y].T.plot.bar(color='b',alpha=0.4,label='PASR')\n",
    "    plt.xlabel('state #')\n",
    "    plt.ylabel('reimbursements per enrollee')\n",
    "    plt.title('different adjustments for reimbursements per enrollee')\n",
    "    plt.legend(loc='upper right')\n",
    "    plt.show()\n",
    "\n",
    "@ipywidgets.interact(choose_asr = list(state_data.columns.values[3::2]),choose_pasr = list(state_data.columns.values[4::2]))\n",
    "def print_x(choose_asr, choose_pasr):  \n",
    "    bar(choose_asr, choose_pasr)"
   ]
  },
  {
   "cell_type": "markdown",
   "metadata": {
    "extensions": {
     "jupyter_dashboards": {
      "version": 1,
      "views": {
       "grid_default": {},
       "report_default": {
        "hidden": false
       }
      }
     }
    }
   },
   "source": [
    "### Market Map"
   ]
  },
  {
   "cell_type": "code",
   "execution_count": 13,
   "metadata": {
    "extensions": {
     "jupyter_dashboards": {
      "version": 1,
      "views": {
       "grid_default": {},
       "report_default": {
        "hidden": false
       }
      }
     }
    }
   },
   "outputs": [
    {
     "name": "stdout",
     "output_type": "stream",
     "text": [
      "In the market map, the darker the color of the grid is, the more the total Medicare reimbursements per enrollee of that state is. \n",
      "Select one grid at a time to show the bar chart of detailed reimbursement info of that state.\n"
     ]
    },
    {
     "data": {
      "application/vnd.jupyter.widget-view+json": {
       "model_id": "4dcc5f83839647dda7523f9d9432376a",
       "version_major": 2,
       "version_minor": 0
      },
      "text/plain": [
       "VBox(children=(MarketMap(color=array([ 9961.85,  6970.83,  8976.52,  9544.49,  8908.44,  8403.76,\n",
       "        9192…"
      ]
     },
     "metadata": {},
     "output_type": "display_data"
    },
    {
     "name": "stdout",
     "output_type": "stream",
     "text": [
      "\u001b[1mAnnotations:\u001b[0m\n",
      "Naming rule: P: price, A: age, S:sex, R:race\n",
      "eg. \"ASR\" means Age, sex, race adjusted\n"
     ]
    }
   ],
   "source": [
    "x_sc = bqplot.OrdinalScale()\n",
    "y_sc = bqplot.OrdinalScale()\n",
    "col_sc = bqplot.ColorScale(scheme = \"Blues\")\n",
    "\n",
    "c_ax = bqplot.ColorAxis(scale = col_sc, orientation = 'vertical',side = 'right') # attention: ColorAxis not Axis\n",
    "state_map = df_state\n",
    "market_map = bqplot.market_map.MarketMap(\n",
    "    title = \"Total Medicare reimbursements per enrollee of states\",\n",
    "    color = state_map[\"Total Medicare reimbursements per enrollee - PASR\"].values,\n",
    "    names = state_map[\"State name\"].values,\n",
    "    scales = {'color':col_sc},\n",
    "    axis = [c_ax]\n",
    "    )\n",
    "\n",
    "print(\"In the market map, the darker the color of the grid is, \" \\\n",
    "    \"the more the total Medicare reimbursements per enrollee of that state is. \" \\\n",
    "    \"\\nSelect one grid at a time to show the bar chart of detailed reimbursement info of that state.\")\n",
    "\n",
    "state_name_label = ipywidgets.Label()\n",
    "total_reimb_label = ipywidgets.Label()\n",
    "output = ipywidgets.Output()\n",
    "\n",
    "from IPython.display import clear_output\n",
    "\n",
    "def selection_changed(event): # only select one\n",
    "    if(event['new'] is None or len(event['new'])==0):\n",
    "#         print(\"Cleared the plot. No grid is selected\")\n",
    "        with output:\n",
    "            clear_output(True)\n",
    "        return ;\n",
    "\n",
    "    state_info = state_map[state_map[\"State name\"] == event['new'][-1]] # -1 means the lastes selected one\n",
    "    state_name_label.value = 'State: '+ event['new'][-1]\n",
    "    total_reimb_label.value = 'Total medicare reimbursements per enrollee of that state: ' \\\n",
    "            + str(state_info[\"Total Medicare reimbursements per enrollee - PASR\"].iloc[0]) \\\n",
    "            + \" dollar / person\"\n",
    "        \n",
    "    # plot\n",
    "    with output:\n",
    "        clear_output(True)\n",
    "        plot_data = state_info.iloc[0].drop(labels=[\"State #\",\"State name\",\"Medicare enrollees (2014)\"])\n",
    "        \n",
    "        x = np.arange(len(plot_data))\n",
    "        plt.title(\"detailed reimbursement info of \" + event['new'][-1])\n",
    "        plt.barh(x, plot_data.tolist())\n",
    "        plt.yticks(x, plot_data.index.tolist())\n",
    "        plt.xlabel(\"Dollar/person\")\n",
    "        for i, v in enumerate(plot_data.tolist()):\n",
    "            plt.text(v, i - 0.25, str(v))\n",
    "        plt.show()\n",
    "       \n",
    "\n",
    "market_map.observe(selection_changed, 'selected')\n",
    "\n",
    "display(ipywidgets.VBox([market_map, state_name_label, total_reimb_label, output]))\n",
    "print(\"\\033[1mAnnotations:\\033[0m\\n\" \\\n",
    "      \"Naming rule: P: price, A: age, S:sex, R:race\\n\" \\\n",
    "      \"eg. \\\"ASR\\\" means Age, sex, race adjusted\")"
   ]
  },
  {
   "cell_type": "code",
   "execution_count": 14,
   "metadata": {
    "extensions": {
     "jupyter_dashboards": {
      "version": 1,
      "views": {
       "grid_default": {},
       "report_default": {
        "hidden": true
       }
      }
     }
    }
   },
   "outputs": [
    {
     "name": "stderr",
     "output_type": "stream",
     "text": [
      "/home/shared/sp18-is590dv/conda_envs/is590dv-default/lib/python3.6/site-packages/ipykernel/__main__.py:2: DeprecationWarning:\n",
      "\n",
      "\n",
      ".ix is deprecated. Please use\n",
      ".loc for label based indexing or\n",
      ".iloc for positional indexing\n",
      "\n",
      "See the documentation here:\n",
      "http://pandas.pydata.org/pandas-docs/stable/indexing.html#ix-indexer-is-deprecated\n",
      "\n"
     ]
    }
   ],
   "source": [
    "df_state1 = df_state.sort_values('Medicare enrollees (2014)', ascending=False)\n",
    "state_names_including_us = df_state1.ix[:,1].tolist()\n",
    "states_names = state_names_including_us[1:]\n",
    "# states_names"
   ]
  },
  {
   "cell_type": "code",
   "execution_count": 15,
   "metadata": {
    "extensions": {
     "jupyter_dashboards": {
      "version": 1,
      "views": {
       "grid_default": {},
       "report_default": {
        "hidden": true
       }
      }
     }
    }
   },
   "outputs": [],
   "source": [
    "# df_state1.iloc[-1]['Medicare enrollees (2014)']"
   ]
  },
  {
   "cell_type": "code",
   "execution_count": 16,
   "metadata": {
    "extensions": {
     "jupyter_dashboards": {
      "version": 1,
      "views": {
       "grid_default": {},
       "report_default": {
        "hidden": true
       }
      }
     }
    }
   },
   "outputs": [],
   "source": [
    "type_name = df_state1.keys()[3:].tolist()\n",
    "for i in range(2, 9):\n",
    "    type_name.append(df_state1.keys()[2*i - 1].split('-')[0][:-1] + ' - ASR & PASR')\n",
    "#type_name.sort()\n",
    "type_name += ['All ASR', 'All PASR', 'ALL ASR & PASR']\n",
    "type_name.insert(0, df_state1.keys()[2])"
   ]
  },
  {
   "cell_type": "code",
   "execution_count": 17,
   "metadata": {
    "extensions": {
     "jupyter_dashboards": {
      "version": 1,
      "views": {
       "grid_default": {},
       "report_default": {
        "hidden": true
       }
      }
     }
    }
   },
   "outputs": [],
   "source": [
    "id_to_state = {\n",
    " 53: 'Washington',\n",
    " 30: 'Montana',\n",
    " 16: 'Idaho',\n",
    " 38: 'North Dakota',\n",
    " 27: 'Minnesota',\n",
    " 23: 'Maine',\n",
    " 26: 'Michigan',\n",
    " 55: 'Wisconsin',\n",
    " 41: 'Oregon',\n",
    " 46: 'South Dakota',\n",
    " 33: 'New Hampshire',\n",
    " 50: 'Vermont',\n",
    " 36: 'New York',\n",
    " 56: 'Wyoming',\n",
    " 19: 'Iowa',\n",
    " 31: 'Nebraska',\n",
    " 25: 'Massachusetts',\n",
    " 17: 'Illinois',\n",
    " 42: 'Pennsylvania',\n",
    " 9: 'Connecticut',\n",
    " 44: 'Rhode Island',\n",
    " 6: 'California',\n",
    " 49: 'Utah',\n",
    " 32: 'Nevada',\n",
    " 39: 'Ohio',\n",
    " 18: 'Indiana',\n",
    " 34: 'New Jersey',\n",
    " 8: 'Colorado',\n",
    " 54: 'West Virginia',\n",
    " 29: 'Missouri',\n",
    " 20: 'Kansas',\n",
    " 10: 'Delaware',\n",
    " 24: 'Maryland',\n",
    " 51: 'Virginia',\n",
    " 21: 'Kentucky',\n",
    " 11: 'District of Columbia',\n",
    " 4: 'Arizona',\n",
    " 40: 'Oklahoma',\n",
    " 35: 'New Mexico',\n",
    " 47: 'Tennessee',\n",
    " 37: 'North Carolina',\n",
    " 48: 'Texas',\n",
    " 5: 'Arkansas',\n",
    " 45: 'South Carolina',\n",
    " 1: 'Alabama',\n",
    " 13: 'Georgia',\n",
    " 28: 'Mississippi',\n",
    " 22: 'Louisiana',\n",
    " 12: 'Florida',\n",
    " 15: 'Hawaii',\n",
    " 2: 'Alaska'\n",
    "}\n",
    "map_id_to_state = {}\n",
    "for key, value in sorted(id_to_state.items()):\n",
    "    map_id_to_state[key] = value\n",
    "state_to_id = {}\n",
    "for ID in map_id_to_state:\n",
    "    state_to_id[map_id_to_state[ID]] = ID\n",
    "state_to_id['United States'] = list(map_id_to_state.keys())"
   ]
  },
  {
   "cell_type": "code",
   "execution_count": 18,
   "metadata": {
    "extensions": {
     "jupyter_dashboards": {
      "version": 1,
      "views": {
       "grid_default": {},
       "report_default": {
        "hidden": true
       }
      }
     }
    }
   },
   "outputs": [],
   "source": [
    "color_51 = [\"#017003\", \"#057207\", \"#0A750C\", \"#0F7711\", \"#147A16\", \"#197C1A\", \"#1D7F1F\", \"#228124\", \"#278429\", \"#2C862E\", \"#318932\", \"#368B37\", \"#3A8E3C\", \"#3F9141\", \"#449345\", \"#49964A\", \"#4E984F\", \"#529B54\", \"#579D59\", \"#5CA05D\", \"#61A262\", \"#66A567\", \"#6BA76C\", \"#6FAA70\", \"#74AC75\", \"#79AF7A\", \"#7EB27F\", \"#83B484\", \"#87B788\", \"#8CB98D\", \"#91BC92\", \"#96BE97\", \"#9BC19B\", \"#A0C3A0\", \"#A4C6A5\", \"#A9C8AA\", \"#AECBAF\", \"#B3CDB3\", \"#B8D0B8\", \"#BCD3BD\", \"#C1D5C2\", \"#C6D8C6\", \"#CBDACB\", \"#D0DDD0\", \"#D5DFD5\", \"#D9E2DA\", \"#DEE4DE\", \"#E3E7E3\", \"#E8E9E8\", \"#EDECED\", \"#F2EFF2\"]\n",
    "\n",
    "map_color = {}; index_color = 0\n",
    "for state in states_names:\n",
    "    map_color[state_to_id[state]] = color_51[index_color]\n",
    "    index_color += 1"
   ]
  },
  {
   "cell_type": "code",
   "execution_count": 19,
   "metadata": {
    "extensions": {
     "jupyter_dashboards": {
      "version": 1,
      "views": {
       "grid_default": {},
       "report_default": {
        "hidden": true
       }
      }
     }
    }
   },
   "outputs": [],
   "source": [
    "def new_plot(state_names, data_display): \n",
    "    if len(state_names) == 0:\n",
    "        print('No selected states!')\n",
    "        return\n",
    "    if type(state_names) is not list:\n",
    "        state_names = [state_names]\n",
    "    df2 = df_state.loc[(df_state['State name'].isin(state_names))]\n",
    "    x = df2['State name'].tolist()\n",
    "    fig = plt.figure()\n",
    "    if data_display == type_name[-1]:\n",
    "        for i in range(1, 15):\n",
    "            y = df2[type_name[i]]\n",
    "            plt.plot(x, y, '-o')\n",
    "        plt.legend(type_name[1:15], bbox_to_anchor=(1.05, 1), loc=2, borderaxespad=0.)\n",
    "    elif data_display == type_name[-2]:\n",
    "        new_types = [type_name[2*i] for i in range(1, 8)]\n",
    "        for y in new_types:\n",
    "            plt.plot(x, df2[y], '-o')\n",
    "        plt.legend(new_types, bbox_to_anchor=(1.05, 1), loc=2, borderaxespad=0.)\n",
    "    elif data_display == type_name[-3]:\n",
    "        new_types = [type_name[2*i+1] for i in range(7)]\n",
    "        for y in new_types:\n",
    "            plt.plot(x, df2[y], '-o')\n",
    "        plt.legend(new_types, bbox_to_anchor=(1.05, 1), loc=2, borderaxespad=0.)\n",
    "    elif data_display in type_name[-10:-3]:\n",
    "        new_type = data_display.split('-')[0]\n",
    "        type1 = new_type + '- ASR'\n",
    "        y1 = df2[type1]\n",
    "        type2 = new_type + '- PASR'\n",
    "        y2 = df2[type2]\n",
    "        plt.plot(x, y1, '-o')\n",
    "        plt.plot(x, y2, '-o')\n",
    "        plt.legend([type1, type2], bbox_to_anchor=(1.05, 1), loc=2, borderaxespad=0.)\n",
    "    else:\n",
    "        plt.plot(x, df2[data_display], '-o')\n",
    "    plt.xticks(x, state_names, rotation='vertical')\n",
    "    fig.suptitle('{0} \\n for Chosen States'.format(data_display))\n",
    "    tmp_ylabel = data_display.split(' per')\n",
    "    if len(tmp_ylabel) > 1:\n",
    "        plt.ylabel('{0}\\nper{1}'.format(tmp_ylabel[0], tmp_ylabel[1]))\n",
    "    else:\n",
    "        plt.ylabel(data_display)\n",
    "    plt.xlabel('States')\n",
    "    plt.figure(figsize = (10, 10))\n",
    "    plt.show()"
   ]
  },
  {
   "cell_type": "code",
   "execution_count": 20,
   "metadata": {
    "extensions": {
     "jupyter_dashboards": {
      "version": 1,
      "views": {
       "grid_default": {},
       "report_default": {
        "hidden": true
       }
      }
     }
    }
   },
   "outputs": [],
   "source": [
    "sc_geo = bqplot.AlbersUSA()\n",
    "\n",
    "col_sc = bqplot.ColorScale(colors = [color_51[50], color_51[0]],\n",
    "                           dtype = 'int64',\n",
    "                           min = float(df_state1.iloc[-1]['Medicare enrollees (2014)']),\n",
    "                           max = float(df_state1.iloc[1]['Medicare enrollees (2014)']))\n",
    "c_ax = bqplot.ColorAxis(scale = col_sc, orientation = 'vertical', side = 'left')\n",
    "\n",
    "states_map = bqplot.Map(map_data=bqplot.topo_load('map_data/USStatesMap.json'), \n",
    "                        scales={'projection': sc_geo},\n",
    "                        interactions = {'click': 'select'},\n",
    "                        selected_styles = {'selected_fill': '#FFFF33'},\n",
    "                        #selected = [1],\n",
    "                        stroke_color = 'yellow',\n",
    "                        colors = map_color\n",
    "                        )\n",
    "usa_fig = bqplot.Figure(marks=[states_map], title='United States Map with Color Reflecting Medicare Enrollees in 2014', axes=[c_ax])\n",
    "usa_fig.layout.width = '900px'\n",
    "usa_fig.layout.height = '650px'\n",
    "\n",
    "state_name_label = ipywidgets.Label()\n",
    "state_name_html = ipywidgets.HTML(description='', placeholder='HTML')\n",
    "ipywidgets.link( (state_name_label, 'value'), (state_name_html, 'value') )\n",
    "tick = ipywidgets.Label('Nothing selected yet, try click on the map.')\n",
    "\n",
    "out = ipywidgets.Output()\n",
    "data_to_display = ipywidgets.Dropdown(\n",
    "    options = type_name,\n",
    "    description = 'Displaying: '\n",
    ")\n",
    "state_options = ipywidgets.Dropdown(\n",
    "                options = df_state['State name'],\n",
    "                description = 'State Name: '\n",
    "            ) \n",
    "flag_state_options_observable = True\n",
    "flag_data_to_display_observable = True\n",
    "\n",
    "def selection_changed(event):\n",
    "    global state_name_label\n",
    "    global tick\n",
    "    global state_options\n",
    "    tick.value = 'Selected States: '\n",
    "    selected_list = event['new']\n",
    "    if selected_list is None or len(selected_list) == 0:\n",
    "        with out:\n",
    "            clear_output(True)\n",
    "            state_name_label.value = 'No states are selected.'\n",
    "            print('Try click on the map!')\n",
    "        return\n",
    "    \n",
    "    state_names = []\n",
    "    state_name_label.value = ''\n",
    "    for i in range(len(selected_list)):\n",
    "        name = map_id_to_state[selected_list[i]]\n",
    "        state_names.append(name)\n",
    "        if i > 0:\n",
    "            state_name_label.value += ','\n",
    "        state_name_label.value += name\n",
    "    \n",
    "    with out:\n",
    "        clear_output(True) \n",
    "             \n",
    "        if len(state_names) > 1:\n",
    "            display(data_to_display)\n",
    "            new_plot(state_names, data_to_display.value)\n",
    "            \n",
    "            def data_dispalying_changed(event):\n",
    "                new_data = event['new']\n",
    "                if new_data is None:\n",
    "                    print('no data to display')\n",
    "                    return\n",
    "                clear_output(True)\n",
    "                state_names = state_name_label.value.split(',')\n",
    "                if len(state_names) == 1:\n",
    "                    global state_options\n",
    "                    state_options.value = state_names[0]\n",
    "                    display(state_options)\n",
    "                display(data_to_display)\n",
    "                new_plot(state_names, new_data)\n",
    "            \n",
    "            global flag_data_to_display_observable\n",
    "            if flag_data_to_display_observable:\n",
    "                flag_data_to_display_observable = False\n",
    "                data_to_display.observe(data_dispalying_changed, ['value'])\n",
    "            \n",
    "        else:\n",
    "            state_options.value = state_names[0]\n",
    "            \n",
    "            def state_dropdown_changed(event):\n",
    "                global state_name_label\n",
    "                global data_to_display\n",
    "                global state_options\n",
    "                tmp_y =  data_to_display.value\n",
    "                clear_output(True)\n",
    "                state_name_label.value = event['new']\n",
    "                state_options.value = event['new']\n",
    "                data_to_display.value = tmp_y\n",
    "                #display(ipywidgets.HBox([instr_state_options, instr_data_to_display]))\n",
    "                #display(state_options, data_to_display)\n",
    "                if event['new'] == 'United States':\n",
    "                    states_map.selected = state_to_id[event['new']]\n",
    "                else:\n",
    "                    states_map.selected = [state_to_id[event['new']]]\n",
    "                #new_plot(event['new'], tmp_y)\n",
    "                \n",
    "            plot = ipywidgets.interactive(new_plot, \n",
    "                                          state_names=state_options, \n",
    "                                          data_display=data_to_display)\n",
    "            display(plot)\n",
    "            \n",
    "            global flag_state_options_observable\n",
    "            if flag_state_options_observable:\n",
    "                flag_state_options_observable = False\n",
    "                state_options.observe(state_dropdown_changed, ['value'])\n",
    "    \n",
    "states_map.observe(selection_changed, 'selected')"
   ]
  },
  {
   "cell_type": "code",
   "execution_count": 21,
   "metadata": {
    "extensions": {
     "jupyter_dashboards": {
      "version": 1,
      "views": {
       "grid_default": {},
       "report_default": {
        "hidden": false
       }
      }
     }
    }
   },
   "outputs": [
    {
     "data": {
      "application/vnd.jupyter.widget-view+json": {
       "model_id": "8cac19a5f6ff49779dccf5366995f25e",
       "version_major": 2,
       "version_minor": 0
      },
      "text/plain": [
       "VBox(children=(HBox(children=(Textarea(value='Color reflecting medicare enrollees in 2014. The darker color, t…"
      ]
     },
     "metadata": {},
     "output_type": "display_data"
    }
   ],
   "source": [
    "instruction = ipywidgets.Textarea('Color reflecting medicare enrollees in 2014. The darker color, the more enrolless.')\n",
    "instr2 = ipywidgets.Textarea('Click on one state to get scatter plot or multiple states to get line plot.')\n",
    "instr3 = ipywidgets.Textarea('Click selected state again to unclick it or click outside the map to unclick all.')\n",
    "display(ipywidgets.VBox([ipywidgets.HBox([instruction, instr2, instr3]), usa_fig, ipywidgets.VBox([tick, state_name_html]), \n",
    "                         out]))"
   ]
  },
  {
   "cell_type": "code",
   "execution_count": 22,
   "metadata": {
    "extensions": {
     "jupyter_dashboards": {
      "version": 1,
      "views": {
       "grid_default": {},
       "report_default": {
        "hidden": true
       }
      }
     }
    }
   },
   "outputs": [],
   "source": [
    "# delete the first row which is the info about the column\n",
    "state_data3 = df_state.iloc[0:51] \n",
    "state_data3 = state_data3.drop(columns = [\"State #\"])\n",
    "state_code = ['AL', 'AK', 'AZ', 'AR', 'CA',\n",
    "              'CO', 'CT', 'DE', 'DC', 'FL',\n",
    "              'GA', 'HI', 'ID', 'IL', 'IN', \n",
    "              'IA', 'KS', 'KY', 'LA', 'ME', \n",
    "              'MD', 'MA', 'MI', 'MN', 'MS', \n",
    "              'MO', 'MT', 'NE', 'NV', 'NH', \n",
    "              'NJ', 'NM', 'NY', 'NC', 'ND', \n",
    "              'OH', 'OK', 'OR', 'PA', 'RI', \n",
    "              'SC', 'SD', 'TN', 'TX', 'UT', \n",
    "              'VT', 'VA', 'WA', 'WV', 'WI', 'WY']\n",
    "state_data3[\"State code\"] = state_code\n",
    "#state_data3"
   ]
  },
  {
   "cell_type": "code",
   "execution_count": 23,
   "metadata": {
    "extensions": {
     "jupyter_dashboards": {
      "version": 1,
      "views": {
       "grid_default": {},
       "report_default": {
        "hidden": true
       }
      }
     }
    }
   },
   "outputs": [],
   "source": [
    "plotly.tools.set_credentials_file(username='TomGong', api_key='C5z2Aa30KlWwU7o4GN5X')\n",
    "\n",
    "for col in state_data3.columns:\n",
    "    state_data3[col] = state_data3[col].astype(str)\n",
    "\n",
    "scl = [[0.0, 'rgb(242,240,247)'],[0.2, 'rgb(218,218,235)'],[0.4, 'rgb(188,189,220)'],\\\n",
    "            [0.6, 'rgb(158,154,200)'],[0.8, 'rgb(117,107,177)'],[1.0, 'rgb(84,39,143)']]\n",
    "\n",
    "state_data3['text'] = state_data3['State name'] + '<br>' +\\\n",
    "    'Total Enrollees: ' + state_data3['Medicare enrollees (2014)']"
   ]
  },
  {
   "cell_type": "code",
   "execution_count": 24,
   "metadata": {
    "extensions": {
     "jupyter_dashboards": {
      "version": 1,
      "views": {
       "grid_default": {},
       "report_default": {
        "hidden": true
       }
      }
     }
    }
   },
   "outputs": [],
   "source": [
    "type_rename = state_data3.keys()[2:-2].tolist()"
   ]
  },
  {
   "cell_type": "code",
   "execution_count": 25,
   "metadata": {
    "extensions": {
     "jupyter_dashboards": {
      "version": 1,
      "views": {
       "grid_default": {},
       "report_default": {
        "hidden": true
       }
      }
     }
    }
   },
   "outputs": [],
   "source": [
    "data_to_display1 = ipywidgets.Dropdown(\n",
    "    options = type_rename,\n",
    "    description = 'Displaying: '\n",
    ")"
   ]
  },
  {
   "cell_type": "code",
   "execution_count": 26,
   "metadata": {
    "extensions": {
     "jupyter_dashboards": {
      "version": 1,
      "views": {
       "grid_default": {},
       "report_default": {
        "hidden": true
       }
      }
     }
    }
   },
   "outputs": [],
   "source": [
    "def new_plot1(data_display):\n",
    "    data = [ dict(\n",
    "            type='choropleth',\n",
    "            colorscale = scl,\n",
    "            autocolorscale = False,\n",
    "            locations = state_data3['State code'],\n",
    "            z = state_data3[data_display].astype(float),\n",
    "            locationmode = 'USA-states',\n",
    "            text = state_data3['text'],\n",
    "            marker = dict(\n",
    "                line = dict (\n",
    "                    color = 'rgb(255,255,255)',\n",
    "                    width = 2\n",
    "                ) ),\n",
    "            colorbar = dict(\n",
    "                title = \"USD/$\")\n",
    "            ) ]\n",
    "\n",
    "    layout = dict(\n",
    "            title = '{0}'.format(data_display) + ', 2014',\n",
    "            geo = dict(\n",
    "                scope='usa',\n",
    "                projection=dict( type='albers usa' ),\n",
    "                showlakes = True,\n",
    "                lakecolor = 'rgb(255, 255, 255)'),\n",
    "                 )\n",
    "\n",
    "    fig = dict( data=data, layout=layout )\n",
    "    display(plotly.plotly.iplot( fig, filename='d3-cloropleth-map' ))\n",
    "\n",
    "def data_to_display_changed(event):\n",
    "    new_data1 = event['new']\n",
    "    if new_data1 is None:\n",
    "        print('no data to display')\n",
    "        return\n",
    "    clear_output(True)\n",
    "    display(data_to_display1)\n",
    "    new_plot1(new_data1)\n",
    "\n",
    "data_to_display1.observe(data_to_display_changed, ['value'])"
   ]
  },
  {
   "cell_type": "markdown",
   "metadata": {
    "extensions": {
     "jupyter_dashboards": {
      "version": 1,
      "views": {
       "grid_default": {},
       "report_default": {
        "hidden": false
       }
      }
     }
    }
   },
   "source": [
    "### Choropleth Map\n",
    "\n",
    "#### Choose the different category of reimbursements you'd like to display from the drop-down box. \n",
    "#### With clicking on any state features, corresponding information will show up in the pop-up."
   ]
  },
  {
   "cell_type": "code",
   "execution_count": 27,
   "metadata": {
    "extensions": {
     "jupyter_dashboards": {
      "version": 1,
      "views": {
       "grid_default": {},
       "report_default": {
        "hidden": false
       }
      }
     }
    },
    "scrolled": false
   },
   "outputs": [
    {
     "data": {
      "application/vnd.jupyter.widget-view+json": {
       "model_id": "d6b7f8de8c304b00b67aaed5c2f56cc4",
       "version_major": 2,
       "version_minor": 0
      },
      "text/plain": [
       "Dropdown(description='Displaying: ', index=8, options=('Total Medicare reimbursements per enrollee - ASR', 'To…"
      ]
     },
     "metadata": {},
     "output_type": "display_data"
    },
    {
     "name": "stdout",
     "output_type": "stream",
     "text": [
      "High five! You successfully sent some data to your account on plotly. View your plot in your browser at https://plot.ly/~TomGong/0 or inside your plot.ly account where it is named 'd3-cloropleth-map'\n"
     ]
    },
    {
     "data": {
      "text/html": [
       "<iframe id=\"igraph\" scrolling=\"no\" style=\"border:none;\" seamless=\"seamless\" src=\"https://plot.ly/~TomGong/0.embed\" height=\"525px\" width=\"100%\"></iframe>"
      ],
      "text/plain": [
       "<plotly.tools.PlotlyDisplay object>"
      ]
     },
     "metadata": {},
     "output_type": "display_data"
    }
   ],
   "source": [
    "display(data_to_display1)\n",
    "new_plot1(data_to_display1.value)"
   ]
  },
  {
   "cell_type": "code",
   "execution_count": null,
   "metadata": {
    "extensions": {
     "jupyter_dashboards": {
      "version": 1,
      "views": {
       "grid_default": {},
       "report_default": {
        "hidden": true
       }
      }
     }
    }
   },
   "outputs": [],
   "source": []
  }
 ],
 "metadata": {
  "extensions": {
   "jupyter_dashboards": {
    "activeView": "report_default",
    "version": 1,
    "views": {
     "grid_default": {
      "name": "grid",
      "type": "grid"
     },
     "report_default": {
      "name": "report",
      "type": "report"
     }
    }
   }
  },
  "kernelspec": {
   "display_name": "Environment (conda_is590dv-default)",
   "language": "python",
   "name": "conda_is590dv-default"
  },
  "language_info": {
   "codemirror_mode": {
    "name": "ipython",
    "version": 3
   },
   "file_extension": ".py",
   "mimetype": "text/x-python",
   "name": "python",
   "nbconvert_exporter": "python",
   "pygments_lexer": "ipython3",
   "version": "3.6.6"
  }
 },
 "nbformat": 4,
 "nbformat_minor": 2
}
