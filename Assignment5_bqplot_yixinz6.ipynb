{
 "cells": [
  {
   "cell_type": "markdown",
   "metadata": {},
   "source": [
    "# Using Bqplot\n",
    "## This is a part of assignment 5\n",
    "### Yixin Zhang (yixinz6)"
   ]
  },
  {
   "cell_type": "code",
   "execution_count": 1,
   "metadata": {},
   "outputs": [
    {
     "data": {
      "application/vnd.jupyter.widget-view+json": {
       "model_id": "f852e7f6d08548a8b1ab59955f70b917",
       "version_major": 2,
       "version_minor": 0
      },
      "text/plain": [
       "Figure(axes=[Axis(label='Year Acquired', scale=LinearScale()), Axis(label='Year Constructed', orientation='ver…"
      ]
     },
     "metadata": {},
     "output_type": "display_data"
    }
   ],
   "source": [
    "import pandas as pd\n",
    "import bqplot\n",
    "\n",
    "buildings = pd.read_csv(\"/home/shared/sp18-is590dv/data/IL_Building_Inventory.csv\",\n",
    "                        na_values = {'Year Acquired': 0, 'Year Constructed': 0, 'Square Footage': 0})\n",
    "\n",
    "x_sc = bqplot.LinearScale()\n",
    "y_sc = bqplot.LinearScale()\n",
    "\n",
    "x_ax = bqplot.Axis(scale = x_sc, label = 'Year Acquired')\n",
    "y_ax = bqplot.Axis(scale = y_sc, label = 'Year Constructed', orientation = 'vertical')\n",
    "\n",
    "tooltip = bqplot.Tooltip(\n",
    "    labels = ['Year Acquired', 'Year Constructed'],\n",
    "    fields = ['x', 'y']\n",
    ")\n",
    "\n",
    "scatters = bqplot.Scatter(\n",
    "    y = buildings['Year Acquired'],\n",
    "    x = buildings['Year Constructed'],\n",
    "    scales = {'x': x_sc, 'y': y_sc},\n",
    "    tooltip = tooltip\n",
    ")\n",
    "\n",
    "fig = bqplot.Figure(\n",
    "    marks = [scatters],\n",
    "    axes = [x_ax, y_ax],\n",
    "    title = 'Year Constructed VS. Year Acquired by Bqplot'\n",
    ")\n",
    "\n",
    "display(fig)"
   ]
  }
 ],
 "metadata": {
  "kernelspec": {
   "display_name": "Environment (conda_is590dv-default)",
   "language": "python",
   "name": "conda_is590dv-default"
  },
  "language_info": {
   "codemirror_mode": {
    "name": "ipython",
    "version": 3
   },
   "file_extension": ".py",
   "mimetype": "text/x-python",
   "name": "python",
   "nbconvert_exporter": "python",
   "pygments_lexer": "ipython3",
   "version": "3.6.6"
  }
 },
 "nbformat": 4,
 "nbformat_minor": 2
}
